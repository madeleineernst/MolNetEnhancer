{
 "cells": [
  {
   "cell_type": "markdown",
   "metadata": {},
   "source": [
    "## Map Mass2Motifs on mass spectral molecular networks (classical workflow)"
   ]
  },
  {
   "cell_type": "markdown",
   "metadata": {},
   "source": [
    "download MolNetEnhancer package"
   ]
  },
  {
   "cell_type": "code",
   "execution_count": 1,
   "metadata": {},
   "outputs": [
    {
     "name": "stderr",
     "output_type": "stream",
     "text": [
      "Skipping install of 'MolNetEnhancer' from a github remote, the SHA1 (c196e8d9) has not changed since last install.\n",
      "  Use `force = TRUE` to force installation\n"
     ]
    }
   ],
   "source": [
    "devtools::install_github(\"madeleineernst/MolNetEnhancer\")"
   ]
  },
  {
   "cell_type": "markdown",
   "metadata": {},
   "source": [
    "download rCSCS package, for direct import of GNPS data (https://www.biorxiv.org/content/10.1101/546150v1)"
   ]
  },
  {
   "cell_type": "code",
   "execution_count": 2,
   "metadata": {},
   "outputs": [
    {
     "name": "stderr",
     "output_type": "stream",
     "text": [
      "Skipping install of 'rCSCS' from a github remote, the SHA1 (5e86e046) has not changed since last install.\n",
      "  Use `force = TRUE` to force installation\n"
     ]
    }
   ],
   "source": [
    "devtools::install_github(\"askerdb/rCSCS\")"
   ]
  },
  {
   "cell_type": "markdown",
   "metadata": {},
   "source": [
    "<font color='blue'>**specify GNPS job ID**</font> "
   ]
  },
  {
   "cell_type": "code",
   "execution_count": 3,
   "metadata": {},
   "outputs": [],
   "source": [
    "gnps_id = \"d23ed2e65ef24eb896b9abebce5243e6\""
   ]
  },
  {
   "cell_type": "code",
   "execution_count": 4,
   "metadata": {},
   "outputs": [],
   "source": [
    "folder_name = \"DrugMetabolism_Example\""
   ]
  },
  {
   "cell_type": "markdown",
   "metadata": {},
   "source": [
    "download GNPS data"
   ]
  },
  {
   "cell_type": "code",
   "execution_count": 5,
   "metadata": {},
   "outputs": [],
   "source": [
    "rCSCS::download_GNPS(gnps_id, folder_name) "
   ]
  },
  {
   "cell_type": "code",
   "execution_count": 6,
   "metadata": {},
   "outputs": [],
   "source": [
    "edges <- read.csv(paste(folder_name,gnps_id,'edges_file.txt',sep='/'), sep = '\\t')"
   ]
  },
  {
   "cell_type": "code",
   "execution_count": 7,
   "metadata": {},
   "outputs": [
    {
     "data": {
      "text/html": [
       "<table>\n",
       "<thead><tr><th scope=col>CLUSTERID1</th><th scope=col>CLUSTERID2</th><th scope=col>DeltaMZ</th><th scope=col>MEH</th><th scope=col>Cosine</th><th scope=col>OtherScore</th><th scope=col>ComponentIndex</th></tr></thead>\n",
       "<tbody>\n",
       "\t<tr><td>6519       </td><td>6529       </td><td>  -0.499023</td><td>0          </td><td>0.758541   </td><td>0.540607   </td><td>1          </td></tr>\n",
       "\t<tr><td>6792       </td><td>6972       </td><td> -28.030000</td><td>0          </td><td>0.812649   </td><td>0.594812   </td><td>2          </td></tr>\n",
       "\t<tr><td>5032       </td><td>6944       </td><td>-188.157000</td><td>0          </td><td>0.728141   </td><td>0.512009   </td><td>2          </td></tr>\n",
       "\t<tr><td>5015       </td><td>6944       </td><td>-190.136000</td><td>0          </td><td>0.841887   </td><td>0.551929   </td><td>2          </td></tr>\n",
       "\t<tr><td>7061       </td><td>7266       </td><td> -28.029000</td><td>0          </td><td>0.855888   </td><td>0.597569   </td><td>2          </td></tr>\n",
       "\t<tr><td>5015       </td><td>5032       </td><td>  -1.979000</td><td>0          </td><td>0.781194   </td><td>0.565951   </td><td>2          </td></tr>\n",
       "</tbody>\n",
       "</table>\n"
      ],
      "text/latex": [
       "\\begin{tabular}{r|lllllll}\n",
       " CLUSTERID1 & CLUSTERID2 & DeltaMZ & MEH & Cosine & OtherScore & ComponentIndex\\\\\n",
       "\\hline\n",
       "\t 6519        & 6529        &   -0.499023 & 0           & 0.758541    & 0.540607    & 1          \\\\\n",
       "\t 6792        & 6972        &  -28.030000 & 0           & 0.812649    & 0.594812    & 2          \\\\\n",
       "\t 5032        & 6944        & -188.157000 & 0           & 0.728141    & 0.512009    & 2          \\\\\n",
       "\t 5015        & 6944        & -190.136000 & 0           & 0.841887    & 0.551929    & 2          \\\\\n",
       "\t 7061        & 7266        &  -28.029000 & 0           & 0.855888    & 0.597569    & 2          \\\\\n",
       "\t 5015        & 5032        &   -1.979000 & 0           & 0.781194    & 0.565951    & 2          \\\\\n",
       "\\end{tabular}\n"
      ],
      "text/markdown": [
       "\n",
       "CLUSTERID1 | CLUSTERID2 | DeltaMZ | MEH | Cosine | OtherScore | ComponentIndex | \n",
       "|---|---|---|---|---|---|\n",
       "| 6519        | 6529        |   -0.499023 | 0           | 0.758541    | 0.540607    | 1           | \n",
       "| 6792        | 6972        |  -28.030000 | 0           | 0.812649    | 0.594812    | 2           | \n",
       "| 5032        | 6944        | -188.157000 | 0           | 0.728141    | 0.512009    | 2           | \n",
       "| 5015        | 6944        | -190.136000 | 0           | 0.841887    | 0.551929    | 2           | \n",
       "| 7061        | 7266        |  -28.029000 | 0           | 0.855888    | 0.597569    | 2           | \n",
       "| 5015        | 5032        |   -1.979000 | 0           | 0.781194    | 0.565951    | 2           | \n",
       "\n",
       "\n"
      ],
      "text/plain": [
       "  CLUSTERID1 CLUSTERID2 DeltaMZ     MEH Cosine   OtherScore ComponentIndex\n",
       "1 6519       6529         -0.499023 0   0.758541 0.540607   1             \n",
       "2 6792       6972        -28.030000 0   0.812649 0.594812   2             \n",
       "3 5032       6944       -188.157000 0   0.728141 0.512009   2             \n",
       "4 5015       6944       -190.136000 0   0.841887 0.551929   2             \n",
       "5 7061       7266        -28.029000 0   0.855888 0.597569   2             \n",
       "6 5015       5032         -1.979000 0   0.781194 0.565951   2             "
      ]
     },
     "metadata": {},
     "output_type": "display_data"
    }
   ],
   "source": [
    "head(edges)"
   ]
  },
  {
   "cell_type": "markdown",
   "metadata": {},
   "source": [
    "<font color='blue'>**specify MS2LDA job ID**</font>  "
   ]
  },
  {
   "cell_type": "code",
   "execution_count": 8,
   "metadata": {},
   "outputs": [],
   "source": [
    "ms2lda_id = '909'"
   ]
  },
  {
   "cell_type": "code",
   "execution_count": 9,
   "metadata": {},
   "outputs": [],
   "source": [
    "motifs <- read.csv(paste('http://ms2lda.org/basicviz/get_gnps_summary',ms2lda_id, sep = \"/\"))"
   ]
  },
  {
   "cell_type": "code",
   "execution_count": 10,
   "metadata": {},
   "outputs": [
    {
     "data": {
      "text/html": [
       "<table>\n",
       "<thead><tr><th scope=col>scans</th><th scope=col>precursormass</th><th scope=col>parentrt</th><th scope=col>document</th><th scope=col>motif</th><th scope=col>probability</th><th scope=col>overlap</th></tr></thead>\n",
       "<tbody>\n",
       "\t<tr><td>4025      </td><td>409.222   </td><td>175.596   </td><td>4025      </td><td>motif_126 </td><td>0.4681155 </td><td>0.99473468</td></tr>\n",
       "\t<tr><td>4025      </td><td>409.222   </td><td>175.596   </td><td>4025      </td><td>motif_101 </td><td>0.2495036 </td><td>0.48313467</td></tr>\n",
       "\t<tr><td>4025      </td><td>409.222   </td><td>175.596   </td><td>4025      </td><td>motif_146 </td><td>0.2822739 </td><td>0.87783184</td></tr>\n",
       "\t<tr><td>4022      </td><td>409.185   </td><td> 95.502   </td><td>4022      </td><td>motif_76  </td><td>0.1072877 </td><td>0.05704438</td></tr>\n",
       "\t<tr><td>4022      </td><td>409.185   </td><td> 95.502   </td><td>4022      </td><td>motif_125 </td><td>0.8925863 </td><td>0.26444602</td></tr>\n",
       "\t<tr><td>4020      </td><td>408.880   </td><td>162.338   </td><td>4020      </td><td>motif_128 </td><td>0.1018290 </td><td>0.97900119</td></tr>\n",
       "</tbody>\n",
       "</table>\n"
      ],
      "text/latex": [
       "\\begin{tabular}{r|lllllll}\n",
       " scans & precursormass & parentrt & document & motif & probability & overlap\\\\\n",
       "\\hline\n",
       "\t 4025        & 409.222     & 175.596     & 4025        & motif\\_126 & 0.4681155   & 0.99473468 \\\\\n",
       "\t 4025        & 409.222     & 175.596     & 4025        & motif\\_101 & 0.2495036   & 0.48313467 \\\\\n",
       "\t 4025        & 409.222     & 175.596     & 4025        & motif\\_146 & 0.2822739   & 0.87783184 \\\\\n",
       "\t 4022        & 409.185     &  95.502     & 4022        & motif\\_76  & 0.1072877   & 0.05704438 \\\\\n",
       "\t 4022        & 409.185     &  95.502     & 4022        & motif\\_125 & 0.8925863   & 0.26444602 \\\\\n",
       "\t 4020        & 408.880     & 162.338     & 4020        & motif\\_128 & 0.1018290   & 0.97900119 \\\\\n",
       "\\end{tabular}\n"
      ],
      "text/markdown": [
       "\n",
       "scans | precursormass | parentrt | document | motif | probability | overlap | \n",
       "|---|---|---|---|---|---|\n",
       "| 4025       | 409.222    | 175.596    | 4025       | motif_126  | 0.4681155  | 0.99473468 | \n",
       "| 4025       | 409.222    | 175.596    | 4025       | motif_101  | 0.2495036  | 0.48313467 | \n",
       "| 4025       | 409.222    | 175.596    | 4025       | motif_146  | 0.2822739  | 0.87783184 | \n",
       "| 4022       | 409.185    |  95.502    | 4022       | motif_76   | 0.1072877  | 0.05704438 | \n",
       "| 4022       | 409.185    |  95.502    | 4022       | motif_125  | 0.8925863  | 0.26444602 | \n",
       "| 4020       | 408.880    | 162.338    | 4020       | motif_128  | 0.1018290  | 0.97900119 | \n",
       "\n",
       "\n"
      ],
      "text/plain": [
       "  scans precursormass parentrt document motif     probability overlap   \n",
       "1 4025  409.222       175.596  4025     motif_126 0.4681155   0.99473468\n",
       "2 4025  409.222       175.596  4025     motif_101 0.2495036   0.48313467\n",
       "3 4025  409.222       175.596  4025     motif_146 0.2822739   0.87783184\n",
       "4 4022  409.185        95.502  4022     motif_76  0.1072877   0.05704438\n",
       "5 4022  409.185        95.502  4022     motif_125 0.8925863   0.26444602\n",
       "6 4020  408.880       162.338  4020     motif_128 0.1018290   0.97900119"
      ]
     },
     "metadata": {},
     "output_type": "display_data"
    }
   ],
   "source": [
    "head(motifs)"
   ]
  },
  {
   "cell_type": "markdown",
   "metadata": {},
   "source": [
    "create network data with mapped motifs"
   ]
  },
  {
   "cell_type": "code",
   "execution_count": 11,
   "metadata": {},
   "outputs": [],
   "source": [
    "motif_network <- MolNetEnhancer::Mass2Motif_2_Network(edges,motifs,prob = 0.01,overlap = 0.3, top = 5)"
   ]
  },
  {
   "cell_type": "code",
   "execution_count": 12,
   "metadata": {},
   "outputs": [
    {
     "data": {
      "text/html": [
       "<table>\n",
       "<thead><tr><th></th><th scope=col>CLUSTERID1</th><th scope=col>interact</th><th scope=col>CLUSTERID2</th><th scope=col>DeltaMZ</th><th scope=col>MEH</th><th scope=col>Cosine</th><th scope=col>OtherScore</th><th scope=col>ComponentIndex</th><th scope=col>SharedMotifs</th><th scope=col>topX</th></tr></thead>\n",
       "<tbody>\n",
       "\t<tr><th scope=row>541</th><td> 1                                    </td><td>cosine                                </td><td> 1                                    </td><td>0                                     </td><td>1                                     </td><td>1                                     </td><td>1                                     </td><td>-1                                    </td><td>                                      </td><td>NA                                    </td></tr>\n",
       "\t<tr><th scope=row>542</th><td> 6                                    </td><td>cosine                                </td><td> 6                                    </td><td>0                                     </td><td>1                                     </td><td>1                                     </td><td>1                                     </td><td>-1                                    </td><td>motif_18                              </td><td>NA                                    </td></tr>\n",
       "\t<tr><th scope=row>543</th><td>19                                    </td><td>cosine                                </td><td>19                                    </td><td>0                                     </td><td>1                                     </td><td>1                                     </td><td>1                                     </td><td>-1                                    </td><td>                                      </td><td>NA                                    </td></tr>\n",
       "\t<tr><th scope=row>544</th><td>22                                    </td><td>cosine                                </td><td>22                                    </td><td>0                                     </td><td>1                                     </td><td>1                                     </td><td>1                                     </td><td>-1                                    </td><td>                                      </td><td>NA                                    </td></tr>\n",
       "\t<tr><th scope=row>545</th><td>24                                    </td><td>cosine                                </td><td>24                                    </td><td>0                                     </td><td>1                                     </td><td>1                                     </td><td>1                                     </td><td>-1                                    </td><td>motif_151                             </td><td>NA                                    </td></tr>\n",
       "\t<tr><th scope=row>546</th><td>35                                    </td><td>cosine                                </td><td>35                                    </td><td>0                                     </td><td>1                                     </td><td>1                                     </td><td>1                                     </td><td>-1                                    </td><td>motif_124,motif_151,motif_178,motif_38</td><td>NA                                    </td></tr>\n",
       "</tbody>\n",
       "</table>\n"
      ],
      "text/latex": [
       "\\begin{tabular}{r|llllllllll}\n",
       "  & CLUSTERID1 & interact & CLUSTERID2 & DeltaMZ & MEH & Cosine & OtherScore & ComponentIndex & SharedMotifs & topX\\\\\n",
       "\\hline\n",
       "\t541 &  1                                     & cosine                                 &  1                                     & 0                                      & 1                                      & 1                                      & 1                                      & -1                                     &                                        & NA                                    \\\\\n",
       "\t542 &  6                                       & cosine                                   &  6                                       & 0                                        & 1                                        & 1                                        & 1                                        & -1                                       & motif\\_18                               & NA                                      \\\\\n",
       "\t543 & 19                                     & cosine                                 & 19                                     & 0                                      & 1                                      & 1                                      & 1                                      & -1                                     &                                        & NA                                    \\\\\n",
       "\t544 & 22                                     & cosine                                 & 22                                     & 0                                      & 1                                      & 1                                      & 1                                      & -1                                     &                                        & NA                                    \\\\\n",
       "\t545 & 24                                       & cosine                                   & 24                                       & 0                                        & 1                                        & 1                                        & 1                                        & -1                                       & motif\\_151                              & NA                                      \\\\\n",
       "\t546 & 35                                             & cosine                                         & 35                                             & 0                                              & 1                                              & 1                                              & 1                                              & -1                                             & motif\\_124,motif\\_151,motif\\_178,motif\\_38 & NA                                            \\\\\n",
       "\\end{tabular}\n"
      ],
      "text/markdown": [
       "\n",
       "| <!--/--> | CLUSTERID1 | interact | CLUSTERID2 | DeltaMZ | MEH | Cosine | OtherScore | ComponentIndex | SharedMotifs | topX | \n",
       "|---|---|---|---|---|---|\n",
       "| 541 |  1                                     | cosine                                 |  1                                     | 0                                      | 1                                      | 1                                      | 1                                      | -1                                     |                                        | NA                                     | \n",
       "| 542 |  6                                     | cosine                                 |  6                                     | 0                                      | 1                                      | 1                                      | 1                                      | -1                                     | motif_18                               | NA                                     | \n",
       "| 543 | 19                                     | cosine                                 | 19                                     | 0                                      | 1                                      | 1                                      | 1                                      | -1                                     |                                        | NA                                     | \n",
       "| 544 | 22                                     | cosine                                 | 22                                     | 0                                      | 1                                      | 1                                      | 1                                      | -1                                     |                                        | NA                                     | \n",
       "| 545 | 24                                     | cosine                                 | 24                                     | 0                                      | 1                                      | 1                                      | 1                                      | -1                                     | motif_151                              | NA                                     | \n",
       "| 546 | 35                                     | cosine                                 | 35                                     | 0                                      | 1                                      | 1                                      | 1                                      | -1                                     | motif_124,motif_151,motif_178,motif_38 | NA                                     | \n",
       "\n",
       "\n"
      ],
      "text/plain": [
       "    CLUSTERID1 interact CLUSTERID2 DeltaMZ MEH Cosine OtherScore ComponentIndex\n",
       "541  1         cosine    1         0       1   1      1          -1            \n",
       "542  6         cosine    6         0       1   1      1          -1            \n",
       "543 19         cosine   19         0       1   1      1          -1            \n",
       "544 22         cosine   22         0       1   1      1          -1            \n",
       "545 24         cosine   24         0       1   1      1          -1            \n",
       "546 35         cosine   35         0       1   1      1          -1            \n",
       "    SharedMotifs                           topX\n",
       "541                                        NA  \n",
       "542 motif_18                               NA  \n",
       "543                                        NA  \n",
       "544                                        NA  \n",
       "545 motif_151                              NA  \n",
       "546 motif_124,motif_151,motif_178,motif_38 NA  "
      ]
     },
     "metadata": {},
     "output_type": "display_data"
    }
   ],
   "source": [
    "head(motif_network$edges)"
   ]
  },
  {
   "cell_type": "code",
   "execution_count": 13,
   "metadata": {},
   "outputs": [
    {
     "data": {
      "text/html": [
       "<table>\n",
       "<thead><tr><th scope=col>scans</th><th scope=col>precursormass</th><th scope=col>parentrt</th><th scope=col>document</th><th scope=col>motif</th><th scope=col>probability</th><th scope=col>overlap</th><th scope=col>motif_18</th><th scope=col>motif_151</th><th scope=col>motif_30</th><th scope=col>⋯</th><th scope=col>motif_95</th><th scope=col>motif_127</th><th scope=col>motif_195</th><th scope=col>motif_29</th><th scope=col>motif_87</th><th scope=col>motif_50</th><th scope=col>motif_132</th><th scope=col>motif_86</th><th scope=col>motif_88</th><th scope=col>motif_180</th></tr></thead>\n",
       "<tbody>\n",
       "\t<tr><td>6                                          </td><td> 150.111                                   </td><td>603.358                                    </td><td>   6                                       </td><td>motif_18                                   </td><td>0.99996266                                 </td><td>0.3225841                                  </td><td>0.3225841                                  </td><td>0.00                                       </td><td>0.00                                       </td><td>⋯                                          </td><td>0.00                                       </td><td>0.00                                       </td><td>0.00                                       </td><td>0.00                                       </td><td>0.00                                       </td><td>0.00                                       </td><td>0.00                                       </td><td>0.00                                       </td><td>0.00                                       </td><td>0.00                                       </td></tr>\n",
       "\t<tr><td>24                                         </td><td> 163.098                                   </td><td>749.914                                    </td><td>  24                                       </td><td>motif_151                                  </td><td>0.94729683                                 </td><td>0.6157072                                  </td><td>0.00                                       </td><td>0.6157072                                  </td><td>0.00                                       </td><td>⋯                                          </td><td>0.00                                       </td><td>0.00                                       </td><td>0.00                                       </td><td>0.00                                       </td><td>0.00                                       </td><td>0.00                                       </td><td>0.00                                       </td><td>0.00                                       </td><td>0.00                                       </td><td>0.00                                       </td></tr>\n",
       "\t<tr><td>25                                         </td><td> 165.113, 165.113, 165.113                 </td><td>793.141,793.141,793.141                    </td><td>  25,  25,  25                             </td><td>motif_30,motif_124,motif_151               </td><td>0.61399094,0.17105049,0.21491548           </td><td>0.3633348,0.3643153,0.5033351              </td><td>0.00                                       </td><td>0.5033351                                  </td><td>0.3633348                                  </td><td>⋯                                          </td><td>0.00                                       </td><td>0.00                                       </td><td>0.00                                       </td><td>0.00                                       </td><td>0.00                                       </td><td>0.00                                       </td><td>0.00                                       </td><td>0.00                                       </td><td>0.00                                       </td><td>0.00                                       </td></tr>\n",
       "\t<tr><td>28                                         </td><td> 166.086, 166.086                          </td><td> 61.588, 61.588                            </td><td>  28,  28                                  </td><td>motif_96,motif_15                          </td><td>0.06588850,0.93405650                      </td><td>0.7191652,0.5115918                        </td><td>0.00                                       </td><td>0.00                                       </td><td>0.00                                       </td><td>⋯                                          </td><td>0.00                                       </td><td>0.00                                       </td><td>0.00                                       </td><td>0.00                                       </td><td>0.00                                       </td><td>0.00                                       </td><td>0.00                                       </td><td>0.00                                       </td><td>0.00                                       </td><td>0.00                                       </td></tr>\n",
       "\t<tr><td>33                                         </td><td> 166.098, 166.098, 166.098                 </td><td>437.707,437.707,437.707                    </td><td>  33,  33,  33                             </td><td>motif_151,motif_178,motif_124              </td><td>0.27378479,0.68447539,0.04167682           </td><td>0.4975803,0.3200368,0.3629634              </td><td>0.00                                       </td><td>0.4975803                                  </td><td>0.00                                       </td><td>⋯                                          </td><td>0.00                                       </td><td>0.00                                       </td><td>0.00                                       </td><td>0.00                                       </td><td>0.00                                       </td><td>0.00                                       </td><td>0.00                                       </td><td>0.00                                       </td><td>0.00                                       </td><td>0.00                                       </td></tr>\n",
       "\t<tr><td>35                                         </td><td> 166.097, 166.097, 166.097, 166.097        </td><td>663.255,663.255,663.255,663.255            </td><td>  35,  35,  35,  35                        </td><td>motif_124,motif_151,motif_178,motif_38     </td><td>0.08146994,0.22859318,0.65557618,0.03430947</td><td>0.3630475,0.4971433,0.3147959,0.5659772    </td><td>0.00                                       </td><td>0.4971433                                  </td><td>0.00                                       </td><td>⋯                                          </td><td>0.00                                       </td><td>0.00                                       </td><td>0.00                                       </td><td>0.00                                       </td><td>0.00                                       </td><td>0.00                                       </td><td>0.00                                       </td><td>0.00                                       </td><td>0.00                                       </td><td>0.00                                       </td></tr>\n",
       "</tbody>\n",
       "</table>\n"
      ],
      "text/latex": [
       "\\begin{tabular}{r|llllllllllllllllllllllllllllllllllllllllllllllllllllllllllllllllllllllllllllllllllllllllllllllllllllllllllllllllllllllllllllllllllllllllllllllllllllllllllllllllllllllllllllllllllllllll}\n",
       " scans & precursormass & parentrt & document & motif & probability & overlap & motif\\_18 & motif\\_151 & motif\\_30 & ⋯ & motif\\_95 & motif\\_127 & motif\\_195 & motif\\_29 & motif\\_87 & motif\\_50 & motif\\_132 & motif\\_86 & motif\\_88 & motif\\_180\\\\\n",
       "\\hline\n",
       "\t 6                                           &  150.111                                    & 603.358                                     &    6                                        & motif\\_18                                  & 0.99996266                                  & 0.3225841                                   & 0.3225841                                   & 0.00                                        & 0.00                                        & ⋯                                           & 0.00                                        & 0.00                                        & 0.00                                        & 0.00                                        & 0.00                                        & 0.00                                        & 0.00                                        & 0.00                                        & 0.00                                        & 0.00                                       \\\\\n",
       "\t 24                                          &  163.098                                    & 749.914                                     &   24                                        & motif\\_151                                 & 0.94729683                                  & 0.6157072                                   & 0.00                                        & 0.6157072                                   & 0.00                                        & ⋯                                           & 0.00                                        & 0.00                                        & 0.00                                        & 0.00                                        & 0.00                                        & 0.00                                        & 0.00                                        & 0.00                                        & 0.00                                        & 0.00                                       \\\\\n",
       "\t 25                                           &  165.113, 165.113, 165.113                   & 793.141,793.141,793.141                      &   25,  25,  25                               & motif\\_30,motif\\_124,motif\\_151           & 0.61399094,0.17105049,0.21491548             & 0.3633348,0.3643153,0.5033351                & 0.00                                         & 0.5033351                                    & 0.3633348                                    & ⋯                                            & 0.00                                         & 0.00                                         & 0.00                                         & 0.00                                         & 0.00                                         & 0.00                                         & 0.00                                         & 0.00                                         & 0.00                                         & 0.00                                        \\\\\n",
       "\t 28                                          &  166.086, 166.086                           &  61.588, 61.588                             &   28,  28                                   & motif\\_96,motif\\_15                       & 0.06588850,0.93405650                       & 0.7191652,0.5115918                         & 0.00                                        & 0.00                                        & 0.00                                        & ⋯                                           & 0.00                                        & 0.00                                        & 0.00                                        & 0.00                                        & 0.00                                        & 0.00                                        & 0.00                                        & 0.00                                        & 0.00                                        & 0.00                                       \\\\\n",
       "\t 33                                           &  166.098, 166.098, 166.098                   & 437.707,437.707,437.707                      &   33,  33,  33                               & motif\\_151,motif\\_178,motif\\_124          & 0.27378479,0.68447539,0.04167682             & 0.4975803,0.3200368,0.3629634                & 0.00                                         & 0.4975803                                    & 0.00                                         & ⋯                                            & 0.00                                         & 0.00                                         & 0.00                                         & 0.00                                         & 0.00                                         & 0.00                                         & 0.00                                         & 0.00                                         & 0.00                                         & 0.00                                        \\\\\n",
       "\t 35                                             &  166.097, 166.097, 166.097, 166.097            & 663.255,663.255,663.255,663.255                &   35,  35,  35,  35                            & motif\\_124,motif\\_151,motif\\_178,motif\\_38 & 0.08146994,0.22859318,0.65557618,0.03430947    & 0.3630475,0.4971433,0.3147959,0.5659772        & 0.00                                           & 0.4971433                                      & 0.00                                           & ⋯                                              & 0.00                                           & 0.00                                           & 0.00                                           & 0.00                                           & 0.00                                           & 0.00                                           & 0.00                                           & 0.00                                           & 0.00                                           & 0.00                                          \\\\\n",
       "\\end{tabular}\n"
      ],
      "text/markdown": [
       "\n",
       "scans | precursormass | parentrt | document | motif | probability | overlap | motif_18 | motif_151 | motif_30 | ⋯ | motif_95 | motif_127 | motif_195 | motif_29 | motif_87 | motif_50 | motif_132 | motif_86 | motif_88 | motif_180 | \n",
       "|---|---|---|---|---|---|\n",
       "| 6                                           |  150.111                                    | 603.358                                     |    6                                        | motif_18                                    | 0.99996266                                  | 0.3225841                                   | 0.3225841                                   | 0.00                                        | 0.00                                        | ⋯                                           | 0.00                                        | 0.00                                        | 0.00                                        | 0.00                                        | 0.00                                        | 0.00                                        | 0.00                                        | 0.00                                        | 0.00                                        | 0.00                                        | \n",
       "| 24                                          |  163.098                                    | 749.914                                     |   24                                        | motif_151                                   | 0.94729683                                  | 0.6157072                                   | 0.00                                        | 0.6157072                                   | 0.00                                        | ⋯                                           | 0.00                                        | 0.00                                        | 0.00                                        | 0.00                                        | 0.00                                        | 0.00                                        | 0.00                                        | 0.00                                        | 0.00                                        | 0.00                                        | \n",
       "| 25                                          |  165.113, 165.113, 165.113                  | 793.141,793.141,793.141                     |   25,  25,  25                              | motif_30,motif_124,motif_151                | 0.61399094,0.17105049,0.21491548            | 0.3633348,0.3643153,0.5033351               | 0.00                                        | 0.5033351                                   | 0.3633348                                   | ⋯                                           | 0.00                                        | 0.00                                        | 0.00                                        | 0.00                                        | 0.00                                        | 0.00                                        | 0.00                                        | 0.00                                        | 0.00                                        | 0.00                                        | \n",
       "| 28                                          |  166.086, 166.086                           |  61.588, 61.588                             |   28,  28                                   | motif_96,motif_15                           | 0.06588850,0.93405650                       | 0.7191652,0.5115918                         | 0.00                                        | 0.00                                        | 0.00                                        | ⋯                                           | 0.00                                        | 0.00                                        | 0.00                                        | 0.00                                        | 0.00                                        | 0.00                                        | 0.00                                        | 0.00                                        | 0.00                                        | 0.00                                        | \n",
       "| 33                                          |  166.098, 166.098, 166.098                  | 437.707,437.707,437.707                     |   33,  33,  33                              | motif_151,motif_178,motif_124               | 0.27378479,0.68447539,0.04167682            | 0.4975803,0.3200368,0.3629634               | 0.00                                        | 0.4975803                                   | 0.00                                        | ⋯                                           | 0.00                                        | 0.00                                        | 0.00                                        | 0.00                                        | 0.00                                        | 0.00                                        | 0.00                                        | 0.00                                        | 0.00                                        | 0.00                                        | \n",
       "| 35                                          |  166.097, 166.097, 166.097, 166.097         | 663.255,663.255,663.255,663.255             |   35,  35,  35,  35                         | motif_124,motif_151,motif_178,motif_38      | 0.08146994,0.22859318,0.65557618,0.03430947 | 0.3630475,0.4971433,0.3147959,0.5659772     | 0.00                                        | 0.4971433                                   | 0.00                                        | ⋯                                           | 0.00                                        | 0.00                                        | 0.00                                        | 0.00                                        | 0.00                                        | 0.00                                        | 0.00                                        | 0.00                                        | 0.00                                        | 0.00                                        | \n",
       "\n",
       "\n"
      ],
      "text/plain": [
       "  scans precursormass                       parentrt                       \n",
       "1 6      150.111                            603.358                        \n",
       "2 24     163.098                            749.914                        \n",
       "3 25     165.113, 165.113, 165.113          793.141,793.141,793.141        \n",
       "4 28     166.086, 166.086                    61.588, 61.588                \n",
       "5 33     166.098, 166.098, 166.098          437.707,437.707,437.707        \n",
       "6 35     166.097, 166.097, 166.097, 166.097 663.255,663.255,663.255,663.255\n",
       "  document            motif                                 \n",
       "1    6                motif_18                              \n",
       "2   24                motif_151                             \n",
       "3   25,  25,  25      motif_30,motif_124,motif_151          \n",
       "4   28,  28           motif_96,motif_15                     \n",
       "5   33,  33,  33      motif_151,motif_178,motif_124         \n",
       "6   35,  35,  35,  35 motif_124,motif_151,motif_178,motif_38\n",
       "  probability                                \n",
       "1 0.99996266                                 \n",
       "2 0.94729683                                 \n",
       "3 0.61399094,0.17105049,0.21491548           \n",
       "4 0.06588850,0.93405650                      \n",
       "5 0.27378479,0.68447539,0.04167682           \n",
       "6 0.08146994,0.22859318,0.65557618,0.03430947\n",
       "  overlap                                 motif_18  motif_151 motif_30  ⋯\n",
       "1 0.3225841                               0.3225841 0.00      0.00      ⋯\n",
       "2 0.6157072                               0.00      0.6157072 0.00      ⋯\n",
       "3 0.3633348,0.3643153,0.5033351           0.00      0.5033351 0.3633348 ⋯\n",
       "4 0.7191652,0.5115918                     0.00      0.00      0.00      ⋯\n",
       "5 0.4975803,0.3200368,0.3629634           0.00      0.4975803 0.00      ⋯\n",
       "6 0.3630475,0.4971433,0.3147959,0.5659772 0.00      0.4971433 0.00      ⋯\n",
       "  motif_95 motif_127 motif_195 motif_29 motif_87 motif_50 motif_132 motif_86\n",
       "1 0.00     0.00      0.00      0.00     0.00     0.00     0.00      0.00    \n",
       "2 0.00     0.00      0.00      0.00     0.00     0.00     0.00      0.00    \n",
       "3 0.00     0.00      0.00      0.00     0.00     0.00     0.00      0.00    \n",
       "4 0.00     0.00      0.00      0.00     0.00     0.00     0.00      0.00    \n",
       "5 0.00     0.00      0.00      0.00     0.00     0.00     0.00      0.00    \n",
       "6 0.00     0.00      0.00      0.00     0.00     0.00     0.00      0.00    \n",
       "  motif_88 motif_180\n",
       "1 0.00     0.00     \n",
       "2 0.00     0.00     \n",
       "3 0.00     0.00     \n",
       "4 0.00     0.00     \n",
       "5 0.00     0.00     \n",
       "6 0.00     0.00     "
      ]
     },
     "metadata": {},
     "output_type": "display_data"
    }
   ],
   "source": [
    "head(motif_network$nodes)"
   ]
  },
  {
   "cell_type": "markdown",
   "metadata": {},
   "source": [
    "write network data with mapped motifs to files: <br>\n",
    "The <i>edges</i> file can be importet as network into Cytoscape, whereas the <i>nodes</i> file can be imported as table. Select column 'CLUSTERID1' as Source Node, column 'interact' as Interaction Type and 'CLUSTERID2' as Target Node. When importing the nodes file as table, make sure to select the semicolon delimiter under Advanced Options."
   ]
  },
  {
   "cell_type": "code",
   "execution_count": 14,
   "metadata": {},
   "outputs": [],
   "source": [
    "write.table(motif_network$edges,\"Mass2Motifs_Edges_Classical.tsv\",quote=F,row.names = F,sep=\"\\t\")\n",
    "write.table(motif_network$nodes,\"Mass2Motifs_Nodes_Classical.tsv\",quote=F,row.names = F,sep=\";\")"
   ]
  }
 ],
 "metadata": {
  "kernelspec": {
   "display_name": "R",
   "language": "R",
   "name": "ir"
  },
  "language_info": {
   "codemirror_mode": "r",
   "file_extension": ".r",
   "mimetype": "text/x-r-source",
   "name": "R",
   "pygments_lexer": "r",
   "version": "3.4.2"
  }
 },
 "nbformat": 4,
 "nbformat_minor": 2
}
