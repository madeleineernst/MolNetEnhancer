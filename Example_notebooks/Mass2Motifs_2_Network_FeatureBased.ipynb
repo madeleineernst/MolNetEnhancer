{
 "cells": [
  {
   "cell_type": "markdown",
   "metadata": {},
   "source": [
    "## Map Mass2Motifs on mass spectral molecular networks (feature based workflow)"
   ]
  },
  {
   "cell_type": "markdown",
   "metadata": {},
   "source": [
    "download MolNetEnhancer package"
   ]
  },
  {
   "cell_type": "code",
   "execution_count": 1,
   "metadata": {},
   "outputs": [
    {
     "name": "stderr",
     "output_type": "stream",
     "text": [
      "Downloading GitHub repo madeleineernst/RMolNetEnhancer@master\n"
     ]
    },
    {
     "name": "stdout",
     "output_type": "stream",
     "text": [
      "✔  checking for file ‘/private/var/folders/fh/hzqxnlrs1gg7lmdpsfbknrqc0000gn/T/Rtmp3toQ72/remotes98dd41bb5213/madeleineernst-RMolNetEnhancer-f23facb/DESCRIPTION’ ...\n",
      "─  preparing ‘MolNetEnhancer’:\n",
      "─  checking DESCRIPTION meta-information ...Warning in as.POSIXlt.POSIXct(x, tz) :\n",
      "     unknown timezone 'zone/tz/2018i.1.0/zoneinfo/Europe/Copenhagen'\n",
      "    OK\n",
      "─  checking for LF line-endings in source and make files and shell scripts\n",
      "─  checking for empty or unneeded directories\n",
      "─  building ‘MolNetEnhancer_0.0.0.9000.tar.gz’\n",
      "   \n",
      "\r"
     ]
    }
   ],
   "source": [
    "devtools::install_github(\"madeleineernst/RMolNetEnhancer\", force = T)"
   ]
  },
  {
   "cell_type": "markdown",
   "metadata": {},
   "source": [
    "download rCSCS package, for direct import of GNPS data (https://www.biorxiv.org/content/10.1101/546150v1)"
   ]
  },
  {
   "cell_type": "code",
   "execution_count": 2,
   "metadata": {},
   "outputs": [
    {
     "name": "stderr",
     "output_type": "stream",
     "text": [
      "Downloading GitHub repo askerdb/rCSCS@master\n"
     ]
    },
    {
     "name": "stdout",
     "output_type": "stream",
     "text": [
      "✔  checking for file ‘/private/var/folders/fh/hzqxnlrs1gg7lmdpsfbknrqc0000gn/T/Rtmp3toQ72/remotes98dd71d07860/askerdb-rCSCS-5e86e04/DESCRIPTION’ ...\n",
      "─  preparing ‘rCSCS’:\n",
      "✔  checking DESCRIPTION meta-information ...\n",
      "   Warning in as.POSIXlt.POSIXct(x, tz) :\n",
      "     unknown timezone 'zone/tz/2018i.1.0/zoneinfo/Europe/Copenhagen'\n",
      "─  checking for LF line-endings in source and make files and shell scripts\n",
      "─  checking for empty or unneeded directories\n",
      "─  building ‘rCSCS_0.1.0.tar.gz’\n",
      "   \n",
      "\r"
     ]
    }
   ],
   "source": [
    "devtools::install_github(\"askerdb/rCSCS\", force = T)"
   ]
  },
  {
   "cell_type": "markdown",
   "metadata": {},
   "source": [
    "<font color='blue'>**specify GNPS job ID**</font> "
   ]
  },
  {
   "cell_type": "code",
   "execution_count": 3,
   "metadata": {},
   "outputs": [],
   "source": [
    "gnps_id = \"b817262cb6114e7295fee4f73b22a3ad\""
   ]
  },
  {
   "cell_type": "code",
   "execution_count": 4,
   "metadata": {},
   "outputs": [],
   "source": [
    "folder_name = \"AGP_Example\""
   ]
  },
  {
   "cell_type": "markdown",
   "metadata": {},
   "source": [
    "download GNPS data"
   ]
  },
  {
   "cell_type": "code",
   "execution_count": 5,
   "metadata": {},
   "outputs": [],
   "source": [
    "rCSCS::download_GNPS(gnps_id, folder_name) "
   ]
  },
  {
   "cell_type": "code",
   "execution_count": 6,
   "metadata": {},
   "outputs": [],
   "source": [
    "edges <- read.csv(paste(folder_name,gnps_id,'edges_file.txt',sep='/'), sep = '\\t')"
   ]
  },
  {
   "cell_type": "code",
   "execution_count": 7,
   "metadata": {},
   "outputs": [
    {
     "data": {
      "text/html": [
       "<table>\n",
       "<thead><tr><th scope=col>CLUSTERID1</th><th scope=col>CLUSTERID2</th><th scope=col>DeltaMZ</th><th scope=col>MEH</th><th scope=col>Cosine</th><th scope=col>OtherScore</th><th scope=col>ComponentIndex</th><th scope=col>EdgeAnnotation</th></tr></thead>\n",
       "<tbody>\n",
       "\t<tr><td> 632  </td><td>2706  </td><td> 0.000</td><td> 632  </td><td>0.9542</td><td> 632  </td><td>1     </td><td>      </td></tr>\n",
       "\t<tr><td> 704  </td><td>4778  </td><td> 0.000</td><td> 704  </td><td>0.9458</td><td> 704  </td><td>2     </td><td>      </td></tr>\n",
       "\t<tr><td> 704  </td><td>6480  </td><td>-0.001</td><td> 704  </td><td>0.9315</td><td> 704  </td><td>2     </td><td>      </td></tr>\n",
       "\t<tr><td>6480  </td><td>7674  </td><td> 0.000</td><td>6480  </td><td>0.9171</td><td>6480  </td><td>2     </td><td>      </td></tr>\n",
       "\t<tr><td> 704  </td><td>2760  </td><td> 0.000</td><td> 704  </td><td>1.0000</td><td> 704  </td><td>2     </td><td>      </td></tr>\n",
       "\t<tr><td>4778  </td><td>6480  </td><td>-0.001</td><td>4778  </td><td>0.9361</td><td>4778  </td><td>2     </td><td>      </td></tr>\n",
       "</tbody>\n",
       "</table>\n"
      ],
      "text/latex": [
       "\\begin{tabular}{r|llllllll}\n",
       " CLUSTERID1 & CLUSTERID2 & DeltaMZ & MEH & Cosine & OtherScore & ComponentIndex & EdgeAnnotation\\\\\n",
       "\\hline\n",
       "\t  632   & 2706   &  0.000 &  632   & 0.9542 &  632   & 1      &       \\\\\n",
       "\t  704   & 4778   &  0.000 &  704   & 0.9458 &  704   & 2      &       \\\\\n",
       "\t  704   & 6480   & -0.001 &  704   & 0.9315 &  704   & 2      &       \\\\\n",
       "\t 6480   & 7674   &  0.000 & 6480   & 0.9171 & 6480   & 2      &       \\\\\n",
       "\t  704   & 2760   &  0.000 &  704   & 1.0000 &  704   & 2      &       \\\\\n",
       "\t 4778   & 6480   & -0.001 & 4778   & 0.9361 & 4778   & 2      &       \\\\\n",
       "\\end{tabular}\n"
      ],
      "text/markdown": [
       "\n",
       "CLUSTERID1 | CLUSTERID2 | DeltaMZ | MEH | Cosine | OtherScore | ComponentIndex | EdgeAnnotation | \n",
       "|---|---|---|---|---|---|\n",
       "|  632   | 2706   |  0.000 |  632   | 0.9542 |  632   | 1      |        | \n",
       "|  704   | 4778   |  0.000 |  704   | 0.9458 |  704   | 2      |        | \n",
       "|  704   | 6480   | -0.001 |  704   | 0.9315 |  704   | 2      |        | \n",
       "| 6480   | 7674   |  0.000 | 6480   | 0.9171 | 6480   | 2      |        | \n",
       "|  704   | 2760   |  0.000 |  704   | 1.0000 |  704   | 2      |        | \n",
       "| 4778   | 6480   | -0.001 | 4778   | 0.9361 | 4778   | 2      |        | \n",
       "\n",
       "\n"
      ],
      "text/plain": [
       "  CLUSTERID1 CLUSTERID2 DeltaMZ MEH  Cosine OtherScore ComponentIndex\n",
       "1  632       2706        0.000   632 0.9542  632       1             \n",
       "2  704       4778        0.000   704 0.9458  704       2             \n",
       "3  704       6480       -0.001   704 0.9315  704       2             \n",
       "4 6480       7674        0.000  6480 0.9171 6480       2             \n",
       "5  704       2760        0.000   704 1.0000  704       2             \n",
       "6 4778       6480       -0.001  4778 0.9361 4778       2             \n",
       "  EdgeAnnotation\n",
       "1               \n",
       "2               \n",
       "3               \n",
       "4               \n",
       "5               \n",
       "6               "
      ]
     },
     "metadata": {},
     "output_type": "display_data"
    }
   ],
   "source": [
    "head(edges)"
   ]
  },
  {
   "cell_type": "markdown",
   "metadata": {},
   "source": [
    "<font color='blue'>**specify MS2LDA job ID**</font>  "
   ]
  },
  {
   "cell_type": "code",
   "execution_count": 8,
   "metadata": {},
   "outputs": [],
   "source": [
    "ms2lda_id = '907'"
   ]
  },
  {
   "cell_type": "code",
   "execution_count": 9,
   "metadata": {},
   "outputs": [],
   "source": [
    "motifs <- read.csv(paste('http://ms2lda.org/basicviz/get_gnps_summary',ms2lda_id, sep = \"/\"))"
   ]
  },
  {
   "cell_type": "code",
   "execution_count": 11,
   "metadata": {},
   "outputs": [
    {
     "data": {
      "text/html": [
       "<table>\n",
       "<thead><tr><th scope=col>scans</th><th scope=col>precursormass</th><th scope=col>parentrt</th><th scope=col>document</th><th scope=col>motif</th><th scope=col>probability</th><th scope=col>overlap</th></tr></thead>\n",
       "<tbody>\n",
       "\t<tr><td>11542     </td><td>791.6269  </td><td>549.98    </td><td>11542     </td><td>motif_224 </td><td>0.37483089</td><td>0.6728895 </td></tr>\n",
       "\t<tr><td>11542     </td><td>791.6269  </td><td>549.98    </td><td>11542     </td><td>motif_226 </td><td>0.25676220</td><td>0.9367428 </td></tr>\n",
       "\t<tr><td>11542     </td><td>791.6269  </td><td>549.98    </td><td>11542     </td><td>motif_159 </td><td>0.36237818</td><td>0.9467659 </td></tr>\n",
       "\t<tr><td>11543     </td><td>664.5352  </td><td>504.11    </td><td>11543     </td><td>motif_284 </td><td>0.48691345</td><td>0.9577900 </td></tr>\n",
       "\t<tr><td>11543     </td><td>664.5352  </td><td>504.11    </td><td>11543     </td><td>motif_181 </td><td>0.49092111</td><td>0.1915849 </td></tr>\n",
       "\t<tr><td>11543     </td><td>664.5352  </td><td>504.11    </td><td>11543     </td><td>motif_226 </td><td>0.01491374</td><td>0.9128016 </td></tr>\n",
       "</tbody>\n",
       "</table>\n"
      ],
      "text/latex": [
       "\\begin{tabular}{r|lllllll}\n",
       " scans & precursormass & parentrt & document & motif & probability & overlap\\\\\n",
       "\\hline\n",
       "\t 11542       & 791.6269    & 549.98      & 11542       & motif\\_224 & 0.37483089  & 0.6728895  \\\\\n",
       "\t 11542       & 791.6269    & 549.98      & 11542       & motif\\_226 & 0.25676220  & 0.9367428  \\\\\n",
       "\t 11542       & 791.6269    & 549.98      & 11542       & motif\\_159 & 0.36237818  & 0.9467659  \\\\\n",
       "\t 11543       & 664.5352    & 504.11      & 11543       & motif\\_284 & 0.48691345  & 0.9577900  \\\\\n",
       "\t 11543       & 664.5352    & 504.11      & 11543       & motif\\_181 & 0.49092111  & 0.1915849  \\\\\n",
       "\t 11543       & 664.5352    & 504.11      & 11543       & motif\\_226 & 0.01491374  & 0.9128016  \\\\\n",
       "\\end{tabular}\n"
      ],
      "text/markdown": [
       "\n",
       "scans | precursormass | parentrt | document | motif | probability | overlap | \n",
       "|---|---|---|---|---|---|\n",
       "| 11542      | 791.6269   | 549.98     | 11542      | motif_224  | 0.37483089 | 0.6728895  | \n",
       "| 11542      | 791.6269   | 549.98     | 11542      | motif_226  | 0.25676220 | 0.9367428  | \n",
       "| 11542      | 791.6269   | 549.98     | 11542      | motif_159  | 0.36237818 | 0.9467659  | \n",
       "| 11543      | 664.5352   | 504.11     | 11543      | motif_284  | 0.48691345 | 0.9577900  | \n",
       "| 11543      | 664.5352   | 504.11     | 11543      | motif_181  | 0.49092111 | 0.1915849  | \n",
       "| 11543      | 664.5352   | 504.11     | 11543      | motif_226  | 0.01491374 | 0.9128016  | \n",
       "\n",
       "\n"
      ],
      "text/plain": [
       "  scans precursormass parentrt document motif     probability overlap  \n",
       "1 11542 791.6269      549.98   11542    motif_224 0.37483089  0.6728895\n",
       "2 11542 791.6269      549.98   11542    motif_226 0.25676220  0.9367428\n",
       "3 11542 791.6269      549.98   11542    motif_159 0.36237818  0.9467659\n",
       "4 11543 664.5352      504.11   11543    motif_284 0.48691345  0.9577900\n",
       "5 11543 664.5352      504.11   11543    motif_181 0.49092111  0.1915849\n",
       "6 11543 664.5352      504.11   11543    motif_226 0.01491374  0.9128016"
      ]
     },
     "metadata": {},
     "output_type": "display_data"
    }
   ],
   "source": [
    "head(motifs)"
   ]
  },
  {
   "cell_type": "markdown",
   "metadata": {},
   "source": [
    "create network data with mapped motifs"
   ]
  },
  {
   "cell_type": "code",
   "execution_count": 12,
   "metadata": {},
   "outputs": [],
   "source": [
    "motif_network <- MolNetEnhancer::Mass2Motif_2_Network(edges,motifs,prob = 0.01,overlap = 0.3, top = 5)"
   ]
  },
  {
   "cell_type": "code",
   "execution_count": 13,
   "metadata": {},
   "outputs": [
    {
     "data": {
      "text/html": [
       "<table>\n",
       "<thead><tr><th></th><th scope=col>CLUSTERID1</th><th scope=col>interact</th><th scope=col>CLUSTERID2</th><th scope=col>DeltaMZ</th><th scope=col>MEH</th><th scope=col>Cosine</th><th scope=col>OtherScore</th><th scope=col>ComponentIndex</th><th scope=col>SharedMotifs</th><th scope=col>topX</th></tr></thead>\n",
       "<tbody>\n",
       "\t<tr><th scope=row>4350</th><td> 2       </td><td>cosine   </td><td> 2       </td><td>0        </td><td>1        </td><td>1        </td><td>1        </td><td>-1       </td><td>         </td><td>NA       </td></tr>\n",
       "\t<tr><th scope=row>4351</th><td> 4       </td><td>cosine   </td><td> 4       </td><td>0        </td><td>1        </td><td>1        </td><td>1        </td><td>-1       </td><td>motif_258</td><td>NA       </td></tr>\n",
       "\t<tr><th scope=row>4352</th><td> 7       </td><td>cosine   </td><td> 7       </td><td>0        </td><td>1        </td><td>1        </td><td>1        </td><td>-1       </td><td>         </td><td>NA       </td></tr>\n",
       "\t<tr><th scope=row>4353</th><td>11       </td><td>cosine   </td><td>11       </td><td>0        </td><td>1        </td><td>1        </td><td>1        </td><td>-1       </td><td>motif_104</td><td>NA       </td></tr>\n",
       "\t<tr><th scope=row>4354</th><td>19       </td><td>cosine   </td><td>19       </td><td>0        </td><td>1        </td><td>1        </td><td>1        </td><td>-1       </td><td>motif_104</td><td>NA       </td></tr>\n",
       "\t<tr><th scope=row>4355</th><td>22       </td><td>cosine   </td><td>22       </td><td>0        </td><td>1        </td><td>1        </td><td>1        </td><td>-1       </td><td>         </td><td>NA       </td></tr>\n",
       "</tbody>\n",
       "</table>\n"
      ],
      "text/latex": [
       "\\begin{tabular}{r|llllllllll}\n",
       "  & CLUSTERID1 & interact & CLUSTERID2 & DeltaMZ & MEH & Cosine & OtherScore & ComponentIndex & SharedMotifs & topX\\\\\n",
       "\\hline\n",
       "\t4350 &  2        & cosine    &  2        & 0         & 1         & 1         & 1         & -1        &           & NA       \\\\\n",
       "\t4351 &  4          & cosine      &  4          & 0           & 1           & 1           & 1           & -1          & motif\\_258 & NA         \\\\\n",
       "\t4352 &  7        & cosine    &  7        & 0         & 1         & 1         & 1         & -1        &           & NA       \\\\\n",
       "\t4353 & 11          & cosine      & 11          & 0           & 1           & 1           & 1           & -1          & motif\\_104 & NA         \\\\\n",
       "\t4354 & 19          & cosine      & 19          & 0           & 1           & 1           & 1           & -1          & motif\\_104 & NA         \\\\\n",
       "\t4355 & 22        & cosine    & 22        & 0         & 1         & 1         & 1         & -1        &           & NA       \\\\\n",
       "\\end{tabular}\n"
      ],
      "text/markdown": [
       "\n",
       "| <!--/--> | CLUSTERID1 | interact | CLUSTERID2 | DeltaMZ | MEH | Cosine | OtherScore | ComponentIndex | SharedMotifs | topX | \n",
       "|---|---|---|---|---|---|\n",
       "| 4350 |  2        | cosine    |  2        | 0         | 1         | 1         | 1         | -1        |           | NA        | \n",
       "| 4351 |  4        | cosine    |  4        | 0         | 1         | 1         | 1         | -1        | motif_258 | NA        | \n",
       "| 4352 |  7        | cosine    |  7        | 0         | 1         | 1         | 1         | -1        |           | NA        | \n",
       "| 4353 | 11        | cosine    | 11        | 0         | 1         | 1         | 1         | -1        | motif_104 | NA        | \n",
       "| 4354 | 19        | cosine    | 19        | 0         | 1         | 1         | 1         | -1        | motif_104 | NA        | \n",
       "| 4355 | 22        | cosine    | 22        | 0         | 1         | 1         | 1         | -1        |           | NA        | \n",
       "\n",
       "\n"
      ],
      "text/plain": [
       "     CLUSTERID1 interact CLUSTERID2 DeltaMZ MEH Cosine OtherScore\n",
       "4350  2         cosine    2         0       1   1      1         \n",
       "4351  4         cosine    4         0       1   1      1         \n",
       "4352  7         cosine    7         0       1   1      1         \n",
       "4353 11         cosine   11         0       1   1      1         \n",
       "4354 19         cosine   19         0       1   1      1         \n",
       "4355 22         cosine   22         0       1   1      1         \n",
       "     ComponentIndex SharedMotifs topX\n",
       "4350 -1                          NA  \n",
       "4351 -1             motif_258    NA  \n",
       "4352 -1                          NA  \n",
       "4353 -1             motif_104    NA  \n",
       "4354 -1             motif_104    NA  \n",
       "4355 -1                          NA  "
      ]
     },
     "metadata": {},
     "output_type": "display_data"
    }
   ],
   "source": [
    "head(motif_network$edges)"
   ]
  },
  {
   "cell_type": "code",
   "execution_count": 14,
   "metadata": {},
   "outputs": [
    {
     "data": {
      "text/html": [
       "<table>\n",
       "<thead><tr><th scope=col>scans</th><th scope=col>precursormass</th><th scope=col>parentrt</th><th scope=col>document</th><th scope=col>motif</th><th scope=col>probability</th><th scope=col>overlap</th><th scope=col>motif_68</th><th scope=col>motif_258</th><th scope=col>motif_150</th><th scope=col>⋯</th><th scope=col>motif_69</th><th scope=col>motif_277</th><th scope=col>motif_74</th><th scope=col>motif_71</th><th scope=col>motif_187</th><th scope=col>motif_239</th><th scope=col>motif_101</th><th scope=col>motif_158</th><th scope=col>motif_66</th><th scope=col>motif_276</th></tr></thead>\n",
       "<tbody>\n",
       "\t<tr><td>1                                                                </td><td> 108.5179                                                        </td><td>614.70                                                           </td><td>    1                                                            </td><td>motif_68                                                         </td><td>0.99988735                                                       </td><td>0.4811440                                                        </td><td>0.4811440                                                        </td><td>0.00                                                             </td><td>0.00                                                             </td><td>⋯                                                                </td><td>0.00                                                             </td><td>0.00                                                             </td><td>0.00                                                             </td><td>0.00                                                             </td><td>0.00                                                             </td><td>0.00                                                             </td><td>0.00                                                             </td><td>0.00                                                             </td><td>0.00                                                             </td><td>0.00                                                             </td></tr>\n",
       "\t<tr><td>3                                                                </td><td>  99.5130                                                        </td><td>614.66                                                           </td><td>    3                                                            </td><td>motif_68                                                         </td><td>0.91798634                                                       </td><td>0.4870522                                                        </td><td>0.4870522                                                        </td><td>0.00                                                             </td><td>0.00                                                             </td><td>⋯                                                                </td><td>0.00                                                             </td><td>0.00                                                             </td><td>0.00                                                             </td><td>0.00                                                             </td><td>0.00                                                             </td><td>0.00                                                             </td><td>0.00                                                             </td><td>0.00                                                             </td><td>0.00                                                             </td><td>0.00                                                             </td></tr>\n",
       "\t<tr><td>4                                                                </td><td> 176.9720                                                        </td><td>627.39                                                           </td><td>    4                                                            </td><td>motif_258                                                        </td><td>0.99990555                                                       </td><td>0.3811989                                                        </td><td>0.00                                                             </td><td>0.3811989                                                        </td><td>0.00                                                             </td><td>⋯                                                                </td><td>0.00                                                             </td><td>0.00                                                             </td><td>0.00                                                             </td><td>0.00                                                             </td><td>0.00                                                             </td><td>0.00                                                             </td><td>0.00                                                             </td><td>0.00                                                             </td><td>0.00                                                             </td><td>0.00                                                             </td></tr>\n",
       "\t<tr><td>8                                                                </td><td> 385.3466, 385.3466, 385.3466, 385.3466, 385.3466, 385.3466      </td><td>522.15,522.15,522.15,522.15,522.15,522.15                        </td><td>    8,    8,    8,    8,    8,    8                              </td><td>motif_150,motif_146,motif_131,motif_104,motif_60,motif_78        </td><td>0.04173604,0.31512993,0.02908268,0.02866324,0.01427603,0.01848419</td><td>0.5793471,0.5583335,0.6066233,0.9541580,0.3350858,0.7460599      </td><td>0.00                                                             </td><td>0.00                                                             </td><td>0.5793471                                                        </td><td>⋯                                                                </td><td>0.00                                                             </td><td>0.00                                                             </td><td>0.00                                                             </td><td>0.00                                                             </td><td>0.00                                                             </td><td>0.00                                                             </td><td>0.00                                                             </td><td>0.00                                                             </td><td>0.00                                                             </td><td>0.00                                                             </td></tr>\n",
       "\t<tr><td>11                                                               </td><td> 204.9669                                                        </td><td>628.42                                                           </td><td>   11                                                            </td><td>motif_104                                                        </td><td>0.49988363                                                       </td><td>0.7976100                                                        </td><td>0.00                                                             </td><td>0.00                                                             </td><td>0.00                                                             </td><td>⋯                                                                </td><td>0.00                                                             </td><td>0.00                                                             </td><td>0.00                                                             </td><td>0.00                                                             </td><td>0.00                                                             </td><td>0.00                                                             </td><td>0.00                                                             </td><td>0.00                                                             </td><td>0.00                                                             </td><td>0.00                                                             </td></tr>\n",
       "\t<tr><td>13                                                               </td><td> 338.3419, 338.3419, 338.3419, 338.3419, 338.3419, 338.3419      </td><td>443.13,443.13,443.13,443.13,443.13,443.13                        </td><td>   13,   13,   13,   13,   13,   13                              </td><td>motif_80,motif_261,motif_123,motif_78,motif_46,motif_13          </td><td>0.01242079,0.06382841,0.01526234,0.05156387,0.80165677,0.04950555</td><td>0.5026755,0.7578549,0.4627604,0.7466822,0.5321376,0.7364461      </td><td>0.00                                                             </td><td>0.00                                                             </td><td>0.00                                                             </td><td>⋯                                                                </td><td>0.00                                                             </td><td>0.00                                                             </td><td>0.00                                                             </td><td>0.00                                                             </td><td>0.00                                                             </td><td>0.00                                                             </td><td>0.00                                                             </td><td>0.00                                                             </td><td>0.00                                                             </td><td>0.00                                                             </td></tr>\n",
       "</tbody>\n",
       "</table>\n"
      ],
      "text/latex": [
       "\\begin{tabular}{r|llllllllllllllllllllllllllllllllllllllllllllllllllllllllllllllllllllllllllllllllllllllllllllllllllllllllllllllllllllllllllllllllllllllllllllllllllllllllllllllllllllllllllllllllllllllllllllllllllllllllllllllllllllllllllllllllllllllllllllllllllllllllllllllllllllllllllllllllll}\n",
       " scans & precursormass & parentrt & document & motif & probability & overlap & motif\\_68 & motif\\_258 & motif\\_150 & ⋯ & motif\\_69 & motif\\_277 & motif\\_74 & motif\\_71 & motif\\_187 & motif\\_239 & motif\\_101 & motif\\_158 & motif\\_66 & motif\\_276\\\\\n",
       "\\hline\n",
       "\t 1                                                                 &  108.5179                                                         & 614.70                                                            &     1                                                             & motif\\_68                                                        & 0.99988735                                                        & 0.4811440                                                         & 0.4811440                                                         & 0.00                                                              & 0.00                                                              & ⋯                                                                 & 0.00                                                              & 0.00                                                              & 0.00                                                              & 0.00                                                              & 0.00                                                              & 0.00                                                              & 0.00                                                              & 0.00                                                              & 0.00                                                              & 0.00                                                             \\\\\n",
       "\t 3                                                                 &   99.5130                                                         & 614.66                                                            &     3                                                             & motif\\_68                                                        & 0.91798634                                                        & 0.4870522                                                         & 0.4870522                                                         & 0.00                                                              & 0.00                                                              & ⋯                                                                 & 0.00                                                              & 0.00                                                              & 0.00                                                              & 0.00                                                              & 0.00                                                              & 0.00                                                              & 0.00                                                              & 0.00                                                              & 0.00                                                              & 0.00                                                             \\\\\n",
       "\t 4                                                                 &  176.9720                                                         & 627.39                                                            &     4                                                             & motif\\_258                                                       & 0.99990555                                                        & 0.3811989                                                         & 0.00                                                              & 0.3811989                                                         & 0.00                                                              & ⋯                                                                 & 0.00                                                              & 0.00                                                              & 0.00                                                              & 0.00                                                              & 0.00                                                              & 0.00                                                              & 0.00                                                              & 0.00                                                              & 0.00                                                              & 0.00                                                             \\\\\n",
       "\t 8                                                                     &  385.3466, 385.3466, 385.3466, 385.3466, 385.3466, 385.3466           & 522.15,522.15,522.15,522.15,522.15,522.15                             &     8,    8,    8,    8,    8,    8                                   & motif\\_150,motif\\_146,motif\\_131,motif\\_104,motif\\_60,motif\\_78 & 0.04173604,0.31512993,0.02908268,0.02866324,0.01427603,0.01848419     & 0.5793471,0.5583335,0.6066233,0.9541580,0.3350858,0.7460599           & 0.00                                                                  & 0.00                                                                  & 0.5793471                                                             & ⋯                                                                     & 0.00                                                                  & 0.00                                                                  & 0.00                                                                  & 0.00                                                                  & 0.00                                                                  & 0.00                                                                  & 0.00                                                                  & 0.00                                                                  & 0.00                                                                  & 0.00                                                                 \\\\\n",
       "\t 11                                                                &  204.9669                                                         & 628.42                                                            &    11                                                             & motif\\_104                                                       & 0.49988363                                                        & 0.7976100                                                         & 0.00                                                              & 0.00                                                              & 0.00                                                              & ⋯                                                                 & 0.00                                                              & 0.00                                                              & 0.00                                                              & 0.00                                                              & 0.00                                                              & 0.00                                                              & 0.00                                                              & 0.00                                                              & 0.00                                                              & 0.00                                                             \\\\\n",
       "\t 13                                                                    &  338.3419, 338.3419, 338.3419, 338.3419, 338.3419, 338.3419           & 443.13,443.13,443.13,443.13,443.13,443.13                             &    13,   13,   13,   13,   13,   13                                   & motif\\_80,motif\\_261,motif\\_123,motif\\_78,motif\\_46,motif\\_13   & 0.01242079,0.06382841,0.01526234,0.05156387,0.80165677,0.04950555     & 0.5026755,0.7578549,0.4627604,0.7466822,0.5321376,0.7364461           & 0.00                                                                  & 0.00                                                                  & 0.00                                                                  & ⋯                                                                     & 0.00                                                                  & 0.00                                                                  & 0.00                                                                  & 0.00                                                                  & 0.00                                                                  & 0.00                                                                  & 0.00                                                                  & 0.00                                                                  & 0.00                                                                  & 0.00                                                                 \\\\\n",
       "\\end{tabular}\n"
      ],
      "text/markdown": [
       "\n",
       "scans | precursormass | parentrt | document | motif | probability | overlap | motif_68 | motif_258 | motif_150 | ⋯ | motif_69 | motif_277 | motif_74 | motif_71 | motif_187 | motif_239 | motif_101 | motif_158 | motif_66 | motif_276 | \n",
       "|---|---|---|---|---|---|\n",
       "| 1                                                                 |  108.5179                                                         | 614.70                                                            |     1                                                             | motif_68                                                          | 0.99988735                                                        | 0.4811440                                                         | 0.4811440                                                         | 0.00                                                              | 0.00                                                              | ⋯                                                                 | 0.00                                                              | 0.00                                                              | 0.00                                                              | 0.00                                                              | 0.00                                                              | 0.00                                                              | 0.00                                                              | 0.00                                                              | 0.00                                                              | 0.00                                                              | \n",
       "| 3                                                                 |   99.5130                                                         | 614.66                                                            |     3                                                             | motif_68                                                          | 0.91798634                                                        | 0.4870522                                                         | 0.4870522                                                         | 0.00                                                              | 0.00                                                              | ⋯                                                                 | 0.00                                                              | 0.00                                                              | 0.00                                                              | 0.00                                                              | 0.00                                                              | 0.00                                                              | 0.00                                                              | 0.00                                                              | 0.00                                                              | 0.00                                                              | \n",
       "| 4                                                                 |  176.9720                                                         | 627.39                                                            |     4                                                             | motif_258                                                         | 0.99990555                                                        | 0.3811989                                                         | 0.00                                                              | 0.3811989                                                         | 0.00                                                              | ⋯                                                                 | 0.00                                                              | 0.00                                                              | 0.00                                                              | 0.00                                                              | 0.00                                                              | 0.00                                                              | 0.00                                                              | 0.00                                                              | 0.00                                                              | 0.00                                                              | \n",
       "| 8                                                                 |  385.3466, 385.3466, 385.3466, 385.3466, 385.3466, 385.3466       | 522.15,522.15,522.15,522.15,522.15,522.15                         |     8,    8,    8,    8,    8,    8                               | motif_150,motif_146,motif_131,motif_104,motif_60,motif_78         | 0.04173604,0.31512993,0.02908268,0.02866324,0.01427603,0.01848419 | 0.5793471,0.5583335,0.6066233,0.9541580,0.3350858,0.7460599       | 0.00                                                              | 0.00                                                              | 0.5793471                                                         | ⋯                                                                 | 0.00                                                              | 0.00                                                              | 0.00                                                              | 0.00                                                              | 0.00                                                              | 0.00                                                              | 0.00                                                              | 0.00                                                              | 0.00                                                              | 0.00                                                              | \n",
       "| 11                                                                |  204.9669                                                         | 628.42                                                            |    11                                                             | motif_104                                                         | 0.49988363                                                        | 0.7976100                                                         | 0.00                                                              | 0.00                                                              | 0.00                                                              | ⋯                                                                 | 0.00                                                              | 0.00                                                              | 0.00                                                              | 0.00                                                              | 0.00                                                              | 0.00                                                              | 0.00                                                              | 0.00                                                              | 0.00                                                              | 0.00                                                              | \n",
       "| 13                                                                |  338.3419, 338.3419, 338.3419, 338.3419, 338.3419, 338.3419       | 443.13,443.13,443.13,443.13,443.13,443.13                         |    13,   13,   13,   13,   13,   13                               | motif_80,motif_261,motif_123,motif_78,motif_46,motif_13           | 0.01242079,0.06382841,0.01526234,0.05156387,0.80165677,0.04950555 | 0.5026755,0.7578549,0.4627604,0.7466822,0.5321376,0.7364461       | 0.00                                                              | 0.00                                                              | 0.00                                                              | ⋯                                                                 | 0.00                                                              | 0.00                                                              | 0.00                                                              | 0.00                                                              | 0.00                                                              | 0.00                                                              | 0.00                                                              | 0.00                                                              | 0.00                                                              | 0.00                                                              | \n",
       "\n",
       "\n"
      ],
      "text/plain": [
       "  scans precursormass                                              \n",
       "1 1      108.5179                                                  \n",
       "2 3       99.5130                                                  \n",
       "3 4      176.9720                                                  \n",
       "4 8      385.3466, 385.3466, 385.3466, 385.3466, 385.3466, 385.3466\n",
       "5 11     204.9669                                                  \n",
       "6 13     338.3419, 338.3419, 338.3419, 338.3419, 338.3419, 338.3419\n",
       "  parentrt                                  document                           \n",
       "1 614.70                                        1                              \n",
       "2 614.66                                        3                              \n",
       "3 627.39                                        4                              \n",
       "4 522.15,522.15,522.15,522.15,522.15,522.15     8,    8,    8,    8,    8,    8\n",
       "5 628.42                                       11                              \n",
       "6 443.13,443.13,443.13,443.13,443.13,443.13    13,   13,   13,   13,   13,   13\n",
       "  motif                                                    \n",
       "1 motif_68                                                 \n",
       "2 motif_68                                                 \n",
       "3 motif_258                                                \n",
       "4 motif_150,motif_146,motif_131,motif_104,motif_60,motif_78\n",
       "5 motif_104                                                \n",
       "6 motif_80,motif_261,motif_123,motif_78,motif_46,motif_13  \n",
       "  probability                                                      \n",
       "1 0.99988735                                                       \n",
       "2 0.91798634                                                       \n",
       "3 0.99990555                                                       \n",
       "4 0.04173604,0.31512993,0.02908268,0.02866324,0.01427603,0.01848419\n",
       "5 0.49988363                                                       \n",
       "6 0.01242079,0.06382841,0.01526234,0.05156387,0.80165677,0.04950555\n",
       "  overlap                                                     motif_68 \n",
       "1 0.4811440                                                   0.4811440\n",
       "2 0.4870522                                                   0.4870522\n",
       "3 0.3811989                                                   0.00     \n",
       "4 0.5793471,0.5583335,0.6066233,0.9541580,0.3350858,0.7460599 0.00     \n",
       "5 0.7976100                                                   0.00     \n",
       "6 0.5026755,0.7578549,0.4627604,0.7466822,0.5321376,0.7364461 0.00     \n",
       "  motif_258 motif_150 ⋯ motif_69 motif_277 motif_74 motif_71 motif_187\n",
       "1 0.00      0.00      ⋯ 0.00     0.00      0.00     0.00     0.00     \n",
       "2 0.00      0.00      ⋯ 0.00     0.00      0.00     0.00     0.00     \n",
       "3 0.3811989 0.00      ⋯ 0.00     0.00      0.00     0.00     0.00     \n",
       "4 0.00      0.5793471 ⋯ 0.00     0.00      0.00     0.00     0.00     \n",
       "5 0.00      0.00      ⋯ 0.00     0.00      0.00     0.00     0.00     \n",
       "6 0.00      0.00      ⋯ 0.00     0.00      0.00     0.00     0.00     \n",
       "  motif_239 motif_101 motif_158 motif_66 motif_276\n",
       "1 0.00      0.00      0.00      0.00     0.00     \n",
       "2 0.00      0.00      0.00      0.00     0.00     \n",
       "3 0.00      0.00      0.00      0.00     0.00     \n",
       "4 0.00      0.00      0.00      0.00     0.00     \n",
       "5 0.00      0.00      0.00      0.00     0.00     \n",
       "6 0.00      0.00      0.00      0.00     0.00     "
      ]
     },
     "metadata": {},
     "output_type": "display_data"
    }
   ],
   "source": [
    "head(motif_network$nodes)"
   ]
  },
  {
   "cell_type": "markdown",
   "metadata": {},
   "source": [
    "write network data with mapped motifs to files: <br>\n",
    "The <i>edges</i> file can be importet as network into Cytoscape, whereas the <i>nodes</i> file can be imported as table. Select column 'CLUSTERID1' as Source Node, column 'interact' as Interaction Type and 'CLUSTERID2' as Target Node. "
   ]
  },
  {
   "cell_type": "code",
   "execution_count": 15,
   "metadata": {},
   "outputs": [],
   "source": [
    "write.table(motif_network$edges,\"Mass2Motifs_Edges_FeatureBased.tsv\",quote=F,row.names = F,sep=\"\\t\")\n",
    "write.table(motif_network$nodes,\"Mass2Motifs_Nodes_FeatureBased.tsv\",quote=F,row.names = F,sep=\"\\t\")"
   ]
  }
 ],
 "metadata": {
  "kernelspec": {
   "display_name": "R",
   "language": "R",
   "name": "ir"
  },
  "language_info": {
   "codemirror_mode": "r",
   "file_extension": ".r",
   "mimetype": "text/x-r-source",
   "name": "R",
   "pygments_lexer": "r",
   "version": "3.4.2"
  }
 },
 "nbformat": 4,
 "nbformat_minor": 2
}
