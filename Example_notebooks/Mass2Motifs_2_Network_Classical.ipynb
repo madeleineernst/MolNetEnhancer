{
 "cells": [
  {
   "cell_type": "markdown",
   "metadata": {},
   "source": [
    "## Map Mass2Motifs on mass spectral molecular networks (classical workflow)"
   ]
  },
  {
   "cell_type": "markdown",
   "metadata": {},
   "source": [
    "download MolNetEnhancer package"
   ]
  },
  {
   "cell_type": "code",
   "execution_count": 1,
   "metadata": {},
   "outputs": [
    {
     "name": "stderr",
     "output_type": "stream",
     "text": [
      "Downloading GitHub repo madeleineernst/RMolNetEnhancer@master\n"
     ]
    },
    {
     "name": "stdout",
     "output_type": "stream",
     "text": [
      "\u001b[32m✔\u001b[39m  \u001b[38;5;247mchecking for file ‘/private/var/folders/fh/hzqxnlrs1gg7lmdpsfbknrqc0000gn/T/Rtmp6CH3hU/remotes40dc3637cc9/madeleineernst-RMolNetEnhancer-eedc8a8/DESCRIPTION’\u001b[39m\u001b[36m\u001b[39m\n",
      "\u001b[38;5;247m─\u001b[39m\u001b[38;5;247m  \u001b[39m\u001b[38;5;247mpreparing ‘MolNetEnhancer’:\u001b[39m\u001b[36m\u001b[39m\n",
      "\u001b[32m✔\u001b[39m  \u001b[38;5;247mchecking DESCRIPTION meta-information\u001b[39m\u001b[36m\u001b[39m\n",
      "\u001b[38;5;247m─\u001b[39m\u001b[38;5;247m  \u001b[39m\u001b[38;5;247mchecking for LF line-endings in source and make files and shell scripts\u001b[39m\u001b[36m\u001b[39m\n",
      "\u001b[38;5;247m─\u001b[39m\u001b[38;5;247m  \u001b[39m\u001b[38;5;247mchecking for empty or unneeded directories\u001b[39m\u001b[36m\u001b[39m\n",
      "\u001b[38;5;247m─\u001b[39m\u001b[38;5;247m  \u001b[39m\u001b[38;5;247mbuilding ‘MolNetEnhancer_0.0.0.9000.tar.gz’\u001b[39m\u001b[36m\u001b[39m\n",
      "   \n",
      "\r"
     ]
    }
   ],
   "source": [
    "devtools::install_github(\"madeleineernst/RMolNetEnhancer\", force = T)"
   ]
  },
  {
   "cell_type": "markdown",
   "metadata": {},
   "source": [
    "download rCSCS package, for direct import of GNPS data (https://www.biorxiv.org/content/10.1101/546150v1)"
   ]
  },
  {
   "cell_type": "code",
   "execution_count": 2,
   "metadata": {},
   "outputs": [
    {
     "name": "stderr",
     "output_type": "stream",
     "text": [
      "Downloading GitHub repo askerdb/rCSCS@master\n"
     ]
    },
    {
     "name": "stdout",
     "output_type": "stream",
     "text": [
      "\u001b[32m✔\u001b[39m  \u001b[38;5;247mchecking for file ‘/private/var/folders/fh/hzqxnlrs1gg7lmdpsfbknrqc0000gn/T/Rtmp6CH3hU/remotes40dc56aeec35/askerdb-rCSCS-e1e766e/DESCRIPTION’\u001b[39m\u001b[36m\u001b[39m\n",
      "\u001b[38;5;247m─\u001b[39m\u001b[38;5;247m  \u001b[39m\u001b[38;5;247mpreparing ‘rCSCS’:\u001b[39m\u001b[36m\u001b[39m\n",
      "\u001b[32m✔\u001b[39m  \u001b[38;5;247mchecking DESCRIPTION meta-information\u001b[39m\u001b[36m\u001b[39m\n",
      "\u001b[38;5;247m─\u001b[39m\u001b[38;5;247m  \u001b[39m\u001b[38;5;247mchecking for LF line-endings in source and make files and shell scripts\u001b[39m\u001b[36m\u001b[39m\n",
      "\u001b[38;5;247m─\u001b[39m\u001b[38;5;247m  \u001b[39m\u001b[38;5;247mchecking for empty or unneeded directories\u001b[39m\u001b[36m\u001b[39m\n",
      "\u001b[38;5;247m─\u001b[39m\u001b[38;5;247m  \u001b[39m\u001b[38;5;247mbuilding ‘rCSCS_0.1.0.tar.gz’\u001b[39m\u001b[36m\u001b[39m\n",
      "   \n",
      "\r"
     ]
    }
   ],
   "source": [
    "devtools::install_github(\"askerdb/rCSCS\", force = T)"
   ]
  },
  {
   "cell_type": "markdown",
   "metadata": {},
   "source": [
    "load libraries"
   ]
  },
  {
   "cell_type": "code",
   "execution_count": 3,
   "metadata": {},
   "outputs": [
    {
     "name": "stderr",
     "output_type": "stream",
     "text": [
      "\n",
      "Attaching package: ‘igraph’\n",
      "\n",
      "The following objects are masked from ‘package:stats’:\n",
      "\n",
      "    decompose, spectrum\n",
      "\n",
      "The following object is masked from ‘package:base’:\n",
      "\n",
      "    union\n",
      "\n"
     ]
    }
   ],
   "source": [
    "library('igraph')"
   ]
  },
  {
   "cell_type": "markdown",
   "metadata": {},
   "source": [
    "<font color='blue'>**specify GNPS job ID**</font> "
   ]
  },
  {
   "cell_type": "code",
   "execution_count": 4,
   "metadata": {},
   "outputs": [],
   "source": [
    "gnps_id = \"b76dd5a123e54a7eb42765499f9163a5\""
   ]
  },
  {
   "cell_type": "code",
   "execution_count": 5,
   "metadata": {},
   "outputs": [],
   "source": [
    "folder_name = \"DrugMetabolism_Example\""
   ]
  },
  {
   "cell_type": "markdown",
   "metadata": {},
   "source": [
    "download GNPS data"
   ]
  },
  {
   "cell_type": "code",
   "execution_count": 6,
   "metadata": {},
   "outputs": [],
   "source": [
    "rCSCS::download_GNPS(gnps_id, folder_name) "
   ]
  },
  {
   "cell_type": "code",
   "execution_count": 7,
   "metadata": {},
   "outputs": [],
   "source": [
    "edges <- read.csv(paste(folder_name,gnps_id,'edges_file.txt',sep='/'), sep = '\\t')"
   ]
  },
  {
   "cell_type": "code",
   "execution_count": 8,
   "metadata": {},
   "outputs": [
    {
     "data": {
      "text/html": [
       "<table>\n",
       "<caption>A data.frame: 6 × 8</caption>\n",
       "<thead>\n",
       "\t<tr><th scope=col>CLUSTERID1</th><th scope=col>CLUSTERID2</th><th scope=col>DeltaMZ</th><th scope=col>MEH</th><th scope=col>Cosine</th><th scope=col>OtherScore</th><th scope=col>ComponentIndex</th><th scope=col>EdgeAnnotation</th></tr>\n",
       "\t<tr><th scope=col>&lt;int&gt;</th><th scope=col>&lt;int&gt;</th><th scope=col>&lt;dbl&gt;</th><th scope=col>&lt;dbl&gt;</th><th scope=col>&lt;dbl&gt;</th><th scope=col>&lt;dbl&gt;</th><th scope=col>&lt;int&gt;</th><th scope=col>&lt;lgl&gt;</th></tr>\n",
       "</thead>\n",
       "<tbody>\n",
       "\t<tr><td>7637</td><td>8218</td><td>-71.039</td><td>7637</td><td>0.7084</td><td>7637</td><td>1</td><td>NA</td></tr>\n",
       "\t<tr><td>8220</td><td>8228</td><td> -2.015</td><td>8220</td><td>0.8365</td><td>8220</td><td>3</td><td>NA</td></tr>\n",
       "\t<tr><td>4949</td><td>5638</td><td>-52.031</td><td>4949</td><td>0.8846</td><td>4949</td><td>3</td><td>NA</td></tr>\n",
       "\t<tr><td>8150</td><td>8163</td><td> -2.014</td><td>8150</td><td>0.8913</td><td>8150</td><td>3</td><td>NA</td></tr>\n",
       "\t<tr><td>5376</td><td>5536</td><td>-14.043</td><td>5376</td><td>0.8870</td><td>5376</td><td>3</td><td>NA</td></tr>\n",
       "\t<tr><td>8251</td><td>8263</td><td> -1.004</td><td>8251</td><td>0.8271</td><td>8251</td><td>3</td><td>NA</td></tr>\n",
       "</tbody>\n",
       "</table>\n"
      ],
      "text/latex": [
       "A data.frame: 6 × 8\n",
       "\\begin{tabular}{r|llllllll}\n",
       " CLUSTERID1 & CLUSTERID2 & DeltaMZ & MEH & Cosine & OtherScore & ComponentIndex & EdgeAnnotation\\\\\n",
       " <int> & <int> & <dbl> & <dbl> & <dbl> & <dbl> & <int> & <lgl>\\\\\n",
       "\\hline\n",
       "\t 7637 & 8218 & -71.039 & 7637 & 0.7084 & 7637 & 1 & NA\\\\\n",
       "\t 8220 & 8228 &  -2.015 & 8220 & 0.8365 & 8220 & 3 & NA\\\\\n",
       "\t 4949 & 5638 & -52.031 & 4949 & 0.8846 & 4949 & 3 & NA\\\\\n",
       "\t 8150 & 8163 &  -2.014 & 8150 & 0.8913 & 8150 & 3 & NA\\\\\n",
       "\t 5376 & 5536 & -14.043 & 5376 & 0.8870 & 5376 & 3 & NA\\\\\n",
       "\t 8251 & 8263 &  -1.004 & 8251 & 0.8271 & 8251 & 3 & NA\\\\\n",
       "\\end{tabular}\n"
      ],
      "text/markdown": [
       "\n",
       "A data.frame: 6 × 8\n",
       "\n",
       "| CLUSTERID1 &lt;int&gt; | CLUSTERID2 &lt;int&gt; | DeltaMZ &lt;dbl&gt; | MEH &lt;dbl&gt; | Cosine &lt;dbl&gt; | OtherScore &lt;dbl&gt; | ComponentIndex &lt;int&gt; | EdgeAnnotation &lt;lgl&gt; |\n",
       "|---|---|---|---|---|---|---|---|\n",
       "| 7637 | 8218 | -71.039 | 7637 | 0.7084 | 7637 | 1 | NA |\n",
       "| 8220 | 8228 |  -2.015 | 8220 | 0.8365 | 8220 | 3 | NA |\n",
       "| 4949 | 5638 | -52.031 | 4949 | 0.8846 | 4949 | 3 | NA |\n",
       "| 8150 | 8163 |  -2.014 | 8150 | 0.8913 | 8150 | 3 | NA |\n",
       "| 5376 | 5536 | -14.043 | 5376 | 0.8870 | 5376 | 3 | NA |\n",
       "| 8251 | 8263 |  -1.004 | 8251 | 0.8271 | 8251 | 3 | NA |\n",
       "\n"
      ],
      "text/plain": [
       "  CLUSTERID1 CLUSTERID2 DeltaMZ MEH  Cosine OtherScore ComponentIndex\n",
       "1 7637       8218       -71.039 7637 0.7084 7637       1             \n",
       "2 8220       8228        -2.015 8220 0.8365 8220       3             \n",
       "3 4949       5638       -52.031 4949 0.8846 4949       3             \n",
       "4 8150       8163        -2.014 8150 0.8913 8150       3             \n",
       "5 5376       5536       -14.043 5376 0.8870 5376       3             \n",
       "6 8251       8263        -1.004 8251 0.8271 8251       3             \n",
       "  EdgeAnnotation\n",
       "1 NA            \n",
       "2 NA            \n",
       "3 NA            \n",
       "4 NA            \n",
       "5 NA            \n",
       "6 NA            "
      ]
     },
     "metadata": {},
     "output_type": "display_data"
    }
   ],
   "source": [
    "head(edges)"
   ]
  },
  {
   "cell_type": "markdown",
   "metadata": {},
   "source": [
    "<font color='blue'>**specify MS2LDA job ID**</font>  "
   ]
  },
  {
   "cell_type": "code",
   "execution_count": 9,
   "metadata": {},
   "outputs": [],
   "source": [
    "ms2lda_id = '909'"
   ]
  },
  {
   "cell_type": "code",
   "execution_count": 10,
   "metadata": {},
   "outputs": [],
   "source": [
    "motifs <- read.csv(paste('http://ms2lda.org/basicviz/get_gnps_summary',ms2lda_id, sep = \"/\"))"
   ]
  },
  {
   "cell_type": "code",
   "execution_count": 11,
   "metadata": {},
   "outputs": [
    {
     "data": {
      "text/html": [
       "<table>\n",
       "<caption>A data.frame: 6 × 7</caption>\n",
       "<thead>\n",
       "\t<tr><th scope=col>scans</th><th scope=col>precursormass</th><th scope=col>parentrt</th><th scope=col>document</th><th scope=col>motif</th><th scope=col>probability</th><th scope=col>overlap</th></tr>\n",
       "\t<tr><th scope=col>&lt;int&gt;</th><th scope=col>&lt;dbl&gt;</th><th scope=col>&lt;dbl&gt;</th><th scope=col>&lt;int&gt;</th><th scope=col>&lt;fct&gt;</th><th scope=col>&lt;dbl&gt;</th><th scope=col>&lt;dbl&gt;</th></tr>\n",
       "</thead>\n",
       "<tbody>\n",
       "\t<tr><td>4025</td><td>409.222</td><td>175.596</td><td>4025</td><td>motif_126</td><td>0.4681155</td><td>0.99473468</td></tr>\n",
       "\t<tr><td>4025</td><td>409.222</td><td>175.596</td><td>4025</td><td>motif_101</td><td>0.2495036</td><td>0.48313467</td></tr>\n",
       "\t<tr><td>4025</td><td>409.222</td><td>175.596</td><td>4025</td><td>motif_146</td><td>0.2822739</td><td>0.87783184</td></tr>\n",
       "\t<tr><td>4022</td><td>409.185</td><td> 95.502</td><td>4022</td><td>motif_76 </td><td>0.1072877</td><td>0.05704438</td></tr>\n",
       "\t<tr><td>4022</td><td>409.185</td><td> 95.502</td><td>4022</td><td>motif_125</td><td>0.8925863</td><td>0.26444602</td></tr>\n",
       "\t<tr><td>4020</td><td>408.880</td><td>162.338</td><td>4020</td><td>motif_128</td><td>0.1018290</td><td>0.97900119</td></tr>\n",
       "</tbody>\n",
       "</table>\n"
      ],
      "text/latex": [
       "A data.frame: 6 × 7\n",
       "\\begin{tabular}{r|lllllll}\n",
       " scans & precursormass & parentrt & document & motif & probability & overlap\\\\\n",
       " <int> & <dbl> & <dbl> & <int> & <fct> & <dbl> & <dbl>\\\\\n",
       "\\hline\n",
       "\t 4025 & 409.222 & 175.596 & 4025 & motif\\_126 & 0.4681155 & 0.99473468\\\\\n",
       "\t 4025 & 409.222 & 175.596 & 4025 & motif\\_101 & 0.2495036 & 0.48313467\\\\\n",
       "\t 4025 & 409.222 & 175.596 & 4025 & motif\\_146 & 0.2822739 & 0.87783184\\\\\n",
       "\t 4022 & 409.185 &  95.502 & 4022 & motif\\_76  & 0.1072877 & 0.05704438\\\\\n",
       "\t 4022 & 409.185 &  95.502 & 4022 & motif\\_125 & 0.8925863 & 0.26444602\\\\\n",
       "\t 4020 & 408.880 & 162.338 & 4020 & motif\\_128 & 0.1018290 & 0.97900119\\\\\n",
       "\\end{tabular}\n"
      ],
      "text/markdown": [
       "\n",
       "A data.frame: 6 × 7\n",
       "\n",
       "| scans &lt;int&gt; | precursormass &lt;dbl&gt; | parentrt &lt;dbl&gt; | document &lt;int&gt; | motif &lt;fct&gt; | probability &lt;dbl&gt; | overlap &lt;dbl&gt; |\n",
       "|---|---|---|---|---|---|---|\n",
       "| 4025 | 409.222 | 175.596 | 4025 | motif_126 | 0.4681155 | 0.99473468 |\n",
       "| 4025 | 409.222 | 175.596 | 4025 | motif_101 | 0.2495036 | 0.48313467 |\n",
       "| 4025 | 409.222 | 175.596 | 4025 | motif_146 | 0.2822739 | 0.87783184 |\n",
       "| 4022 | 409.185 |  95.502 | 4022 | motif_76  | 0.1072877 | 0.05704438 |\n",
       "| 4022 | 409.185 |  95.502 | 4022 | motif_125 | 0.8925863 | 0.26444602 |\n",
       "| 4020 | 408.880 | 162.338 | 4020 | motif_128 | 0.1018290 | 0.97900119 |\n",
       "\n"
      ],
      "text/plain": [
       "  scans precursormass parentrt document motif     probability overlap   \n",
       "1 4025  409.222       175.596  4025     motif_126 0.4681155   0.99473468\n",
       "2 4025  409.222       175.596  4025     motif_101 0.2495036   0.48313467\n",
       "3 4025  409.222       175.596  4025     motif_146 0.2822739   0.87783184\n",
       "4 4022  409.185        95.502  4022     motif_76  0.1072877   0.05704438\n",
       "5 4022  409.185        95.502  4022     motif_125 0.8925863   0.26444602\n",
       "6 4020  408.880       162.338  4020     motif_128 0.1018290   0.97900119"
      ]
     },
     "metadata": {},
     "output_type": "display_data"
    }
   ],
   "source": [
    "head(motifs)"
   ]
  },
  {
   "cell_type": "markdown",
   "metadata": {},
   "source": [
    "create network data with mapped motifs"
   ]
  },
  {
   "cell_type": "code",
   "execution_count": 12,
   "metadata": {},
   "outputs": [],
   "source": [
    "motif_network <- MolNetEnhancer::Mass2Motif_2_Network(edges,motifs,prob = 0.01,overlap = 0.3, top = 5)"
   ]
  },
  {
   "cell_type": "code",
   "execution_count": 13,
   "metadata": {},
   "outputs": [
    {
     "data": {
      "text/html": [
       "<table>\n",
       "<caption>A data.frame: 6 × 10</caption>\n",
       "<thead>\n",
       "\t<tr><th></th><th scope=col>CLUSTERID1</th><th scope=col>interaction</th><th scope=col>CLUSTERID2</th><th scope=col>DeltaMZ</th><th scope=col>MEH</th><th scope=col>Cosine</th><th scope=col>OtherScore</th><th scope=col>ComponentIndex</th><th scope=col>SharedMotifs</th><th scope=col>topX</th></tr>\n",
       "\t<tr><th></th><th scope=col>&lt;int&gt;</th><th scope=col>&lt;chr&gt;</th><th scope=col>&lt;int&gt;</th><th scope=col>&lt;dbl&gt;</th><th scope=col>&lt;dbl&gt;</th><th scope=col>&lt;dbl&gt;</th><th scope=col>&lt;dbl&gt;</th><th scope=col>&lt;int&gt;</th><th scope=col>&lt;chr&gt;</th><th scope=col>&lt;chr&gt;</th></tr>\n",
       "</thead>\n",
       "<tbody>\n",
       "\t<tr><th scope=row>501</th><td> 1</td><td>cosine</td><td> 1</td><td>0</td><td>1</td><td>1</td><td>1</td><td>-1</td><td>                                      </td><td>NA</td></tr>\n",
       "\t<tr><th scope=row>502</th><td> 6</td><td>cosine</td><td> 6</td><td>0</td><td>1</td><td>1</td><td>1</td><td>-1</td><td>motif_18                              </td><td>NA</td></tr>\n",
       "\t<tr><th scope=row>503</th><td>19</td><td>cosine</td><td>19</td><td>0</td><td>1</td><td>1</td><td>1</td><td>-1</td><td>                                      </td><td>NA</td></tr>\n",
       "\t<tr><th scope=row>504</th><td>22</td><td>cosine</td><td>22</td><td>0</td><td>1</td><td>1</td><td>1</td><td>-1</td><td>                                      </td><td>NA</td></tr>\n",
       "\t<tr><th scope=row>505</th><td>24</td><td>cosine</td><td>24</td><td>0</td><td>1</td><td>1</td><td>1</td><td>-1</td><td>motif_151                             </td><td>NA</td></tr>\n",
       "\t<tr><th scope=row>506</th><td>35</td><td>cosine</td><td>35</td><td>0</td><td>1</td><td>1</td><td>1</td><td>-1</td><td>motif_124,motif_151,motif_178,motif_38</td><td>NA</td></tr>\n",
       "</tbody>\n",
       "</table>\n"
      ],
      "text/latex": [
       "A data.frame: 6 × 10\n",
       "\\begin{tabular}{r|llllllllll}\n",
       "  & CLUSTERID1 & interaction & CLUSTERID2 & DeltaMZ & MEH & Cosine & OtherScore & ComponentIndex & SharedMotifs & topX\\\\\n",
       "  & <int> & <chr> & <int> & <dbl> & <dbl> & <dbl> & <dbl> & <int> & <chr> & <chr>\\\\\n",
       "\\hline\n",
       "\t501 &  1 & cosine &  1 & 0 & 1 & 1 & 1 & -1 &                                        & NA\\\\\n",
       "\t502 &  6 & cosine &  6 & 0 & 1 & 1 & 1 & -1 & motif\\_18                               & NA\\\\\n",
       "\t503 & 19 & cosine & 19 & 0 & 1 & 1 & 1 & -1 &                                        & NA\\\\\n",
       "\t504 & 22 & cosine & 22 & 0 & 1 & 1 & 1 & -1 &                                        & NA\\\\\n",
       "\t505 & 24 & cosine & 24 & 0 & 1 & 1 & 1 & -1 & motif\\_151                              & NA\\\\\n",
       "\t506 & 35 & cosine & 35 & 0 & 1 & 1 & 1 & -1 & motif\\_124,motif\\_151,motif\\_178,motif\\_38 & NA\\\\\n",
       "\\end{tabular}\n"
      ],
      "text/markdown": [
       "\n",
       "A data.frame: 6 × 10\n",
       "\n",
       "| <!--/--> | CLUSTERID1 &lt;int&gt; | interaction &lt;chr&gt; | CLUSTERID2 &lt;int&gt; | DeltaMZ &lt;dbl&gt; | MEH &lt;dbl&gt; | Cosine &lt;dbl&gt; | OtherScore &lt;dbl&gt; | ComponentIndex &lt;int&gt; | SharedMotifs &lt;chr&gt; | topX &lt;chr&gt; |\n",
       "|---|---|---|---|---|---|---|---|---|---|---|\n",
       "| 501 |  1 | cosine |  1 | 0 | 1 | 1 | 1 | -1 | <!----> | NA |\n",
       "| 502 |  6 | cosine |  6 | 0 | 1 | 1 | 1 | -1 | motif_18                               | NA |\n",
       "| 503 | 19 | cosine | 19 | 0 | 1 | 1 | 1 | -1 | <!----> | NA |\n",
       "| 504 | 22 | cosine | 22 | 0 | 1 | 1 | 1 | -1 | <!----> | NA |\n",
       "| 505 | 24 | cosine | 24 | 0 | 1 | 1 | 1 | -1 | motif_151                              | NA |\n",
       "| 506 | 35 | cosine | 35 | 0 | 1 | 1 | 1 | -1 | motif_124,motif_151,motif_178,motif_38 | NA |\n",
       "\n"
      ],
      "text/plain": [
       "    CLUSTERID1 interaction CLUSTERID2 DeltaMZ MEH Cosine OtherScore\n",
       "501  1         cosine       1         0       1   1      1         \n",
       "502  6         cosine       6         0       1   1      1         \n",
       "503 19         cosine      19         0       1   1      1         \n",
       "504 22         cosine      22         0       1   1      1         \n",
       "505 24         cosine      24         0       1   1      1         \n",
       "506 35         cosine      35         0       1   1      1         \n",
       "    ComponentIndex SharedMotifs                           topX\n",
       "501 -1                                                    NA  \n",
       "502 -1             motif_18                               NA  \n",
       "503 -1                                                    NA  \n",
       "504 -1                                                    NA  \n",
       "505 -1             motif_151                              NA  \n",
       "506 -1             motif_124,motif_151,motif_178,motif_38 NA  "
      ]
     },
     "metadata": {},
     "output_type": "display_data"
    }
   ],
   "source": [
    "head(motif_network$edges)"
   ]
  },
  {
   "cell_type": "code",
   "execution_count": 14,
   "metadata": {},
   "outputs": [
    {
     "data": {
      "text/html": [
       "<table>\n",
       "<caption>A data.frame: 6 × 184</caption>\n",
       "<thead>\n",
       "\t<tr><th scope=col>scans</th><th scope=col>precursormass</th><th scope=col>parentrt</th><th scope=col>document</th><th scope=col>motif</th><th scope=col>probability</th><th scope=col>overlap</th><th scope=col>motif_18</th><th scope=col>motif_151</th><th scope=col>motif_30</th><th scope=col>⋯</th><th scope=col>motif_95</th><th scope=col>motif_127</th><th scope=col>motif_195</th><th scope=col>motif_29</th><th scope=col>motif_87</th><th scope=col>motif_50</th><th scope=col>motif_132</th><th scope=col>motif_86</th><th scope=col>motif_88</th><th scope=col>motif_180</th></tr>\n",
       "\t<tr><th scope=col>&lt;chr&gt;</th><th scope=col>&lt;chr&gt;</th><th scope=col>&lt;chr&gt;</th><th scope=col>&lt;chr&gt;</th><th scope=col>&lt;chr&gt;</th><th scope=col>&lt;chr&gt;</th><th scope=col>&lt;chr&gt;</th><th scope=col>&lt;fct&gt;</th><th scope=col>&lt;fct&gt;</th><th scope=col>&lt;fct&gt;</th><th scope=col>⋯</th><th scope=col>&lt;fct&gt;</th><th scope=col>&lt;fct&gt;</th><th scope=col>&lt;fct&gt;</th><th scope=col>&lt;fct&gt;</th><th scope=col>&lt;fct&gt;</th><th scope=col>&lt;fct&gt;</th><th scope=col>&lt;fct&gt;</th><th scope=col>&lt;fct&gt;</th><th scope=col>&lt;fct&gt;</th><th scope=col>&lt;fct&gt;</th></tr>\n",
       "</thead>\n",
       "<tbody>\n",
       "\t<tr><td>6 </td><td> 150.111                           </td><td>603.358                        </td><td>   6               </td><td>motif_18                              </td><td>0.99996266                                 </td><td>0.3225841                              </td><td>0.3225841</td><td>0.00     </td><td>0.00     </td><td>⋯</td><td>0.00</td><td>0.00</td><td>0.00</td><td>0.00</td><td>0.00</td><td>0.00</td><td>0.00</td><td>0.00</td><td>0.00</td><td>0.00</td></tr>\n",
       "\t<tr><td>24</td><td> 163.098                           </td><td>749.914                        </td><td>  24               </td><td>motif_151                             </td><td>0.94729683                                 </td><td>0.6157072                              </td><td>0.00     </td><td>0.6157072</td><td>0.00     </td><td>⋯</td><td>0.00</td><td>0.00</td><td>0.00</td><td>0.00</td><td>0.00</td><td>0.00</td><td>0.00</td><td>0.00</td><td>0.00</td><td>0.00</td></tr>\n",
       "\t<tr><td>25</td><td> 165.113, 165.113, 165.113         </td><td>793.141,793.141,793.141        </td><td>  25,  25,  25     </td><td>motif_30,motif_124,motif_151          </td><td>0.61399094,0.17105049,0.21491548           </td><td>0.3633348,0.3643153,0.5033351          </td><td>0.00     </td><td>0.5033351</td><td>0.3633348</td><td>⋯</td><td>0.00</td><td>0.00</td><td>0.00</td><td>0.00</td><td>0.00</td><td>0.00</td><td>0.00</td><td>0.00</td><td>0.00</td><td>0.00</td></tr>\n",
       "\t<tr><td>28</td><td> 166.086, 166.086                  </td><td> 61.588, 61.588                </td><td>  28,  28          </td><td>motif_96,motif_15                     </td><td>0.06588850,0.93405650                      </td><td>0.7191652,0.5115918                    </td><td>0.00     </td><td>0.00     </td><td>0.00     </td><td>⋯</td><td>0.00</td><td>0.00</td><td>0.00</td><td>0.00</td><td>0.00</td><td>0.00</td><td>0.00</td><td>0.00</td><td>0.00</td><td>0.00</td></tr>\n",
       "\t<tr><td>33</td><td> 166.098, 166.098, 166.098         </td><td>437.707,437.707,437.707        </td><td>  33,  33,  33     </td><td>motif_151,motif_178,motif_124         </td><td>0.27378479,0.68447539,0.04167682           </td><td>0.4975803,0.3200368,0.3629634          </td><td>0.00     </td><td>0.4975803</td><td>0.00     </td><td>⋯</td><td>0.00</td><td>0.00</td><td>0.00</td><td>0.00</td><td>0.00</td><td>0.00</td><td>0.00</td><td>0.00</td><td>0.00</td><td>0.00</td></tr>\n",
       "\t<tr><td>35</td><td> 166.097, 166.097, 166.097, 166.097</td><td>663.255,663.255,663.255,663.255</td><td>  35,  35,  35,  35</td><td>motif_124,motif_151,motif_178,motif_38</td><td>0.08146994,0.22859318,0.65557618,0.03430947</td><td>0.3630475,0.4971433,0.3147959,0.5659772</td><td>0.00     </td><td>0.4971433</td><td>0.00     </td><td>⋯</td><td>0.00</td><td>0.00</td><td>0.00</td><td>0.00</td><td>0.00</td><td>0.00</td><td>0.00</td><td>0.00</td><td>0.00</td><td>0.00</td></tr>\n",
       "</tbody>\n",
       "</table>\n"
      ],
      "text/latex": [
       "A data.frame: 6 × 184\n",
       "\\begin{tabular}{r|llllllllllllllllllllllllllllllllllllllllllllllllllllllllllllllllllllllllllllllllllllllllllllllllllllllllllllllllllllllllllllllllllllllllllllllllllllllllllllllllllllllllllllllllllllllll}\n",
       " scans & precursormass & parentrt & document & motif & probability & overlap & motif\\_18 & motif\\_151 & motif\\_30 & motif\\_124 & motif\\_96 & motif\\_15 & motif\\_178 & motif\\_38 & motif\\_116 & motif\\_103 & motif\\_190 & motif\\_128 & motif\\_12 & motif\\_43 & motif\\_129 & motif\\_150 & motif\\_97 & motif\\_66 & motif\\_141 & motif\\_41 & motif\\_197 & motif\\_33 & motif\\_157 & motif\\_104 & motif\\_55 & motif\\_143 & motif\\_75 & motif\\_79 & motif\\_1 & motif\\_172 & motif\\_52 & motif\\_56 & motif\\_78 & motif\\_51 & motif\\_25 & motif\\_47 & motif\\_40 & motif\\_126 & motif\\_188 & motif\\_98 & motif\\_58 & motif\\_139 & motif\\_184 & motif\\_84 & motif\\_16 & motif\\_3 & motif\\_53 & motif\\_152 & motif\\_65 & motif\\_59 & motif\\_155 & motif\\_138 & motif\\_113 & motif\\_170 & motif\\_193 & motif\\_6 & motif\\_62 & motif\\_166 & motif\\_101 & motif\\_31 & motif\\_179 & motif\\_182 & motif\\_137 & motif\\_159 & motif\\_146 & motif\\_11 & motif\\_17 & motif\\_64 & motif\\_70 & motif\\_5 & motif\\_83 & motif\\_26 & motif\\_72 & motif\\_163 & motif\\_145 & motif\\_181 & motif\\_109 & motif\\_167 & motif\\_71 & motif\\_148 & motif\\_154 & motif\\_144 & motif\\_14 & motif\\_114 & motif\\_48 & motif\\_8 & motif\\_153 & motif\\_135 & motif\\_32 & motif\\_34 & motif\\_192 & motif\\_125 & motif\\_23 & motif\\_123 & motif\\_82 & motif\\_36 & motif\\_158 & motif\\_107 & motif\\_4 & motif\\_0 & motif\\_111 & motif\\_19 & motif\\_149 & motif\\_122 & motif\\_100 & motif\\_91 & motif\\_199 & motif\\_175 & motif\\_117 & motif\\_60 & motif\\_110 & motif\\_108 & motif\\_22 & motif\\_194 & motif\\_174 & motif\\_161 & motif\\_156 & motif\\_176 & motif\\_35 & motif\\_160 & motif\\_147 & motif\\_131 & motif\\_119 & motif\\_162 & motif\\_118 & motif\\_69 & motif\\_89 & motif\\_142 & motif\\_13 & motif\\_165 & motif\\_198 & motif\\_49 & motif\\_73 & motif\\_61 & motif\\_133 & motif\\_168 & motif\\_85 & motif\\_20 & motif\\_77 & motif\\_93 & motif\\_9 & motif\\_44 & motif\\_191 & motif\\_28 & motif\\_27 & motif\\_7 & motif\\_99 & motif\\_39 & motif\\_37 & motif\\_74 & motif\\_196 & motif\\_171 & motif\\_121 & motif\\_92 & motif\\_186 & motif\\_24 & motif\\_81 & motif\\_134 & motif\\_136 & motif\\_46 & motif\\_80 & motif\\_57 & motif\\_2 & motif\\_164 & motif\\_45 & motif\\_140 & motif\\_94 & motif\\_95 & motif\\_127 & motif\\_195 & motif\\_29 & motif\\_87 & motif\\_50 & motif\\_132 & motif\\_86 & motif\\_88 & motif\\_180\\\\\n",
       " <chr> & <chr> & <chr> & <chr> & <chr> & <chr> & <chr> & <fct> & <fct> & <fct> & <fct> & <fct> & <fct> & <fct> & <fct> & <fct> & <fct> & <fct> & <fct> & <fct> & <fct> & <fct> & <fct> & <fct> & <fct> & <fct> & <fct> & <fct> & <fct> & <fct> & <fct> & <fct> & <fct> & <fct> & <fct> & <fct> & <fct> & <fct> & <fct> & <fct> & <fct> & <fct> & <fct> & <fct> & <fct> & <fct> & <fct> & <fct> & <fct> & <fct> & <fct> & <fct> & <fct> & <fct> & <fct> & <fct> & <fct> & <fct> & <fct> & <fct> & <fct> & <fct> & <fct> & <fct> & <fct> & <fct> & <fct> & <fct> & <fct> & <fct> & <fct> & <fct> & <fct> & <fct> & <fct> & <fct> & <fct> & <fct> & <fct> & <fct> & <fct> & <fct> & <fct> & <fct> & <fct> & <fct> & <fct> & <fct> & <fct> & <fct> & <fct> & <fct> & <fct> & <fct> & <fct> & <fct> & <fct> & <fct> & <fct> & <fct> & <fct> & <fct> & <fct> & <fct> & <fct> & <fct> & <fct> & <fct> & <fct> & <fct> & <fct> & <fct> & <fct> & <fct> & <fct> & <fct> & <fct> & <fct> & <fct> & <fct> & <fct> & <fct> & <fct> & <fct> & <fct> & <fct> & <fct> & <fct> & <fct> & <fct> & <fct> & <fct> & <fct> & <fct> & <fct> & <fct> & <fct> & <fct> & <fct> & <fct> & <fct> & <fct> & <fct> & <fct> & <fct> & <fct> & <fct> & <fct> & <fct> & <fct> & <fct> & <fct> & <fct> & <fct> & <fct> & <fct> & <fct> & <fct> & <fct> & <fct> & <fct> & <fct> & <fct> & <fct> & <fct> & <fct> & <fct> & <fct> & <fct> & <fct> & <fct> & <fct> & <fct> & <fct> & <fct> & <fct> & <fct> & <fct> & <fct> & <fct> & <fct> & <fct> & <fct> & <fct>\\\\\n",
       "\\hline\n",
       "\t 6  &  150.111                            & 603.358                         &    6                & motif\\_18                               & 0.99996266                                  & 0.3225841                               & 0.3225841 & 0.00      & 0.00      & 0.00      & 0.00      & 0.00      & 0.00      & 0.00      & 0.00 & 0.00 & 0.00 & 0.00 & 0.00 & 0.00 & 0.00 & 0.00 & 0.00 & 0.00 & 0.00 & 0.00 & 0.00 & 0.00 & 0.00 & 0.00 & 0.00 & 0.00 & 0.00 & 0.00 & 0.00 & 0.00 & 0.00 & 0.00 & 0.00 & 0.00 & 0.00 & 0.00 & 0.00 & 0.00 & 0.00 & 0.00 & 0.00 & 0.00 & 0.00 & 0.00 & 0.00 & 0.00 & 0.00 & 0.00 & 0.00 & 0.00 & 0.00 & 0.00 & 0.00 & 0.00 & 0.00 & 0.00 & 0.00 & 0.00 & 0.00 & 0.00 & 0.00 & 0.00 & 0.00 & 0.00 & 0.00 & 0.00 & 0.00 & 0.00 & 0.00 & 0.00 & 0.00 & 0.00 & 0.00 & 0.00 & 0.00 & 0.00 & 0.00 & 0.00 & 0.00 & 0.00 & 0.00 & 0.00 & 0.00 & 0.00 & 0.00 & 0.00 & 0.00 & 0.00 & 0.00 & 0.00 & 0.00 & 0.00 & 0.00 & 0.00 & 0.00 & 0.00 & 0.00 & 0.00 & 0.00 & 0.00 & 0.00 & 0.00 & 0.00 & 0.00 & 0.00 & 0.00 & 0.00 & 0.00 & 0.00 & 0.00 & 0.00 & 0.00 & 0.00 & 0.00 & 0.00 & 0.00 & 0.00 & 0.00 & 0.00 & 0.00 & 0.00 & 0.00 & 0.00 & 0.00 & 0.00 & 0.00 & 0.00 & 0.00 & 0.00 & 0.00 & 0.00 & 0.00 & 0.00 & 0.00 & 0.00 & 0.00 & 0.00 & 0.00 & 0.00 & 0.00 & 0.00 & 0.00 & 0.00 & 0.00 & 0.00 & 0.00 & 0.00 & 0.00 & 0.00 & 0.00 & 0.00 & 0.00 & 0.00 & 0.00 & 0.00 & 0.00 & 0.00 & 0.00 & 0.00 & 0.00 & 0.00 & 0.00 & 0.00 & 0.00 & 0.00 & 0.00 & 0.00 & 0.00 & 0.00 & 0.00 & 0.00 & 0.00 & 0.00 & 0.00 & 0.00 & 0.00 & 0.00\\\\\n",
       "\t 24 &  163.098                            & 749.914                         &   24                & motif\\_151                              & 0.94729683                                  & 0.6157072                               & 0.00      & 0.6157072 & 0.00      & 0.00      & 0.00      & 0.00      & 0.00      & 0.00      & 0.00 & 0.00 & 0.00 & 0.00 & 0.00 & 0.00 & 0.00 & 0.00 & 0.00 & 0.00 & 0.00 & 0.00 & 0.00 & 0.00 & 0.00 & 0.00 & 0.00 & 0.00 & 0.00 & 0.00 & 0.00 & 0.00 & 0.00 & 0.00 & 0.00 & 0.00 & 0.00 & 0.00 & 0.00 & 0.00 & 0.00 & 0.00 & 0.00 & 0.00 & 0.00 & 0.00 & 0.00 & 0.00 & 0.00 & 0.00 & 0.00 & 0.00 & 0.00 & 0.00 & 0.00 & 0.00 & 0.00 & 0.00 & 0.00 & 0.00 & 0.00 & 0.00 & 0.00 & 0.00 & 0.00 & 0.00 & 0.00 & 0.00 & 0.00 & 0.00 & 0.00 & 0.00 & 0.00 & 0.00 & 0.00 & 0.00 & 0.00 & 0.00 & 0.00 & 0.00 & 0.00 & 0.00 & 0.00 & 0.00 & 0.00 & 0.00 & 0.00 & 0.00 & 0.00 & 0.00 & 0.00 & 0.00 & 0.00 & 0.00 & 0.00 & 0.00 & 0.00 & 0.00 & 0.00 & 0.00 & 0.00 & 0.00 & 0.00 & 0.00 & 0.00 & 0.00 & 0.00 & 0.00 & 0.00 & 0.00 & 0.00 & 0.00 & 0.00 & 0.00 & 0.00 & 0.00 & 0.00 & 0.00 & 0.00 & 0.00 & 0.00 & 0.00 & 0.00 & 0.00 & 0.00 & 0.00 & 0.00 & 0.00 & 0.00 & 0.00 & 0.00 & 0.00 & 0.00 & 0.00 & 0.00 & 0.00 & 0.00 & 0.00 & 0.00 & 0.00 & 0.00 & 0.00 & 0.00 & 0.00 & 0.00 & 0.00 & 0.00 & 0.00 & 0.00 & 0.00 & 0.00 & 0.00 & 0.00 & 0.00 & 0.00 & 0.00 & 0.00 & 0.00 & 0.00 & 0.00 & 0.00 & 0.00 & 0.00 & 0.00 & 0.00 & 0.00 & 0.00 & 0.00 & 0.00 & 0.00 & 0.00 & 0.00 & 0.00 & 0.00 & 0.00 & 0.00 & 0.00 & 0.00 & 0.00\\\\\n",
       "\t 25 &  165.113, 165.113, 165.113          & 793.141,793.141,793.141         &   25,  25,  25      & motif\\_30,motif\\_124,motif\\_151           & 0.61399094,0.17105049,0.21491548            & 0.3633348,0.3643153,0.5033351           & 0.00      & 0.5033351 & 0.3633348 & 0.3643153 & 0.00      & 0.00      & 0.00      & 0.00      & 0.00 & 0.00 & 0.00 & 0.00 & 0.00 & 0.00 & 0.00 & 0.00 & 0.00 & 0.00 & 0.00 & 0.00 & 0.00 & 0.00 & 0.00 & 0.00 & 0.00 & 0.00 & 0.00 & 0.00 & 0.00 & 0.00 & 0.00 & 0.00 & 0.00 & 0.00 & 0.00 & 0.00 & 0.00 & 0.00 & 0.00 & 0.00 & 0.00 & 0.00 & 0.00 & 0.00 & 0.00 & 0.00 & 0.00 & 0.00 & 0.00 & 0.00 & 0.00 & 0.00 & 0.00 & 0.00 & 0.00 & 0.00 & 0.00 & 0.00 & 0.00 & 0.00 & 0.00 & 0.00 & 0.00 & 0.00 & 0.00 & 0.00 & 0.00 & 0.00 & 0.00 & 0.00 & 0.00 & 0.00 & 0.00 & 0.00 & 0.00 & 0.00 & 0.00 & 0.00 & 0.00 & 0.00 & 0.00 & 0.00 & 0.00 & 0.00 & 0.00 & 0.00 & 0.00 & 0.00 & 0.00 & 0.00 & 0.00 & 0.00 & 0.00 & 0.00 & 0.00 & 0.00 & 0.00 & 0.00 & 0.00 & 0.00 & 0.00 & 0.00 & 0.00 & 0.00 & 0.00 & 0.00 & 0.00 & 0.00 & 0.00 & 0.00 & 0.00 & 0.00 & 0.00 & 0.00 & 0.00 & 0.00 & 0.00 & 0.00 & 0.00 & 0.00 & 0.00 & 0.00 & 0.00 & 0.00 & 0.00 & 0.00 & 0.00 & 0.00 & 0.00 & 0.00 & 0.00 & 0.00 & 0.00 & 0.00 & 0.00 & 0.00 & 0.00 & 0.00 & 0.00 & 0.00 & 0.00 & 0.00 & 0.00 & 0.00 & 0.00 & 0.00 & 0.00 & 0.00 & 0.00 & 0.00 & 0.00 & 0.00 & 0.00 & 0.00 & 0.00 & 0.00 & 0.00 & 0.00 & 0.00 & 0.00 & 0.00 & 0.00 & 0.00 & 0.00 & 0.00 & 0.00 & 0.00 & 0.00 & 0.00 & 0.00 & 0.00 & 0.00 & 0.00 & 0.00 & 0.00 & 0.00 & 0.00\\\\\n",
       "\t 28 &  166.086, 166.086                   &  61.588, 61.588                 &   28,  28           & motif\\_96,motif\\_15                      & 0.06588850,0.93405650                       & 0.7191652,0.5115918                     & 0.00      & 0.00      & 0.00      & 0.00      & 0.7191652 & 0.5115918 & 0.00      & 0.00      & 0.00 & 0.00 & 0.00 & 0.00 & 0.00 & 0.00 & 0.00 & 0.00 & 0.00 & 0.00 & 0.00 & 0.00 & 0.00 & 0.00 & 0.00 & 0.00 & 0.00 & 0.00 & 0.00 & 0.00 & 0.00 & 0.00 & 0.00 & 0.00 & 0.00 & 0.00 & 0.00 & 0.00 & 0.00 & 0.00 & 0.00 & 0.00 & 0.00 & 0.00 & 0.00 & 0.00 & 0.00 & 0.00 & 0.00 & 0.00 & 0.00 & 0.00 & 0.00 & 0.00 & 0.00 & 0.00 & 0.00 & 0.00 & 0.00 & 0.00 & 0.00 & 0.00 & 0.00 & 0.00 & 0.00 & 0.00 & 0.00 & 0.00 & 0.00 & 0.00 & 0.00 & 0.00 & 0.00 & 0.00 & 0.00 & 0.00 & 0.00 & 0.00 & 0.00 & 0.00 & 0.00 & 0.00 & 0.00 & 0.00 & 0.00 & 0.00 & 0.00 & 0.00 & 0.00 & 0.00 & 0.00 & 0.00 & 0.00 & 0.00 & 0.00 & 0.00 & 0.00 & 0.00 & 0.00 & 0.00 & 0.00 & 0.00 & 0.00 & 0.00 & 0.00 & 0.00 & 0.00 & 0.00 & 0.00 & 0.00 & 0.00 & 0.00 & 0.00 & 0.00 & 0.00 & 0.00 & 0.00 & 0.00 & 0.00 & 0.00 & 0.00 & 0.00 & 0.00 & 0.00 & 0.00 & 0.00 & 0.00 & 0.00 & 0.00 & 0.00 & 0.00 & 0.00 & 0.00 & 0.00 & 0.00 & 0.00 & 0.00 & 0.00 & 0.00 & 0.00 & 0.00 & 0.00 & 0.00 & 0.00 & 0.00 & 0.00 & 0.00 & 0.00 & 0.00 & 0.00 & 0.00 & 0.00 & 0.00 & 0.00 & 0.00 & 0.00 & 0.00 & 0.00 & 0.00 & 0.00 & 0.00 & 0.00 & 0.00 & 0.00 & 0.00 & 0.00 & 0.00 & 0.00 & 0.00 & 0.00 & 0.00 & 0.00 & 0.00 & 0.00 & 0.00 & 0.00 & 0.00 & 0.00 & 0.00\\\\\n",
       "\t 33 &  166.098, 166.098, 166.098          & 437.707,437.707,437.707         &   33,  33,  33      & motif\\_151,motif\\_178,motif\\_124          & 0.27378479,0.68447539,0.04167682            & 0.4975803,0.3200368,0.3629634           & 0.00      & 0.4975803 & 0.00      & 0.3629634 & 0.00      & 0.00      & 0.3200368 & 0.00      & 0.00 & 0.00 & 0.00 & 0.00 & 0.00 & 0.00 & 0.00 & 0.00 & 0.00 & 0.00 & 0.00 & 0.00 & 0.00 & 0.00 & 0.00 & 0.00 & 0.00 & 0.00 & 0.00 & 0.00 & 0.00 & 0.00 & 0.00 & 0.00 & 0.00 & 0.00 & 0.00 & 0.00 & 0.00 & 0.00 & 0.00 & 0.00 & 0.00 & 0.00 & 0.00 & 0.00 & 0.00 & 0.00 & 0.00 & 0.00 & 0.00 & 0.00 & 0.00 & 0.00 & 0.00 & 0.00 & 0.00 & 0.00 & 0.00 & 0.00 & 0.00 & 0.00 & 0.00 & 0.00 & 0.00 & 0.00 & 0.00 & 0.00 & 0.00 & 0.00 & 0.00 & 0.00 & 0.00 & 0.00 & 0.00 & 0.00 & 0.00 & 0.00 & 0.00 & 0.00 & 0.00 & 0.00 & 0.00 & 0.00 & 0.00 & 0.00 & 0.00 & 0.00 & 0.00 & 0.00 & 0.00 & 0.00 & 0.00 & 0.00 & 0.00 & 0.00 & 0.00 & 0.00 & 0.00 & 0.00 & 0.00 & 0.00 & 0.00 & 0.00 & 0.00 & 0.00 & 0.00 & 0.00 & 0.00 & 0.00 & 0.00 & 0.00 & 0.00 & 0.00 & 0.00 & 0.00 & 0.00 & 0.00 & 0.00 & 0.00 & 0.00 & 0.00 & 0.00 & 0.00 & 0.00 & 0.00 & 0.00 & 0.00 & 0.00 & 0.00 & 0.00 & 0.00 & 0.00 & 0.00 & 0.00 & 0.00 & 0.00 & 0.00 & 0.00 & 0.00 & 0.00 & 0.00 & 0.00 & 0.00 & 0.00 & 0.00 & 0.00 & 0.00 & 0.00 & 0.00 & 0.00 & 0.00 & 0.00 & 0.00 & 0.00 & 0.00 & 0.00 & 0.00 & 0.00 & 0.00 & 0.00 & 0.00 & 0.00 & 0.00 & 0.00 & 0.00 & 0.00 & 0.00 & 0.00 & 0.00 & 0.00 & 0.00 & 0.00 & 0.00 & 0.00 & 0.00 & 0.00 & 0.00 & 0.00\\\\\n",
       "\t 35 &  166.097, 166.097, 166.097, 166.097 & 663.255,663.255,663.255,663.255 &   35,  35,  35,  35 & motif\\_124,motif\\_151,motif\\_178,motif\\_38 & 0.08146994,0.22859318,0.65557618,0.03430947 & 0.3630475,0.4971433,0.3147959,0.5659772 & 0.00      & 0.4971433 & 0.00      & 0.3630475 & 0.00      & 0.00      & 0.3147959 & 0.5659772 & 0.00 & 0.00 & 0.00 & 0.00 & 0.00 & 0.00 & 0.00 & 0.00 & 0.00 & 0.00 & 0.00 & 0.00 & 0.00 & 0.00 & 0.00 & 0.00 & 0.00 & 0.00 & 0.00 & 0.00 & 0.00 & 0.00 & 0.00 & 0.00 & 0.00 & 0.00 & 0.00 & 0.00 & 0.00 & 0.00 & 0.00 & 0.00 & 0.00 & 0.00 & 0.00 & 0.00 & 0.00 & 0.00 & 0.00 & 0.00 & 0.00 & 0.00 & 0.00 & 0.00 & 0.00 & 0.00 & 0.00 & 0.00 & 0.00 & 0.00 & 0.00 & 0.00 & 0.00 & 0.00 & 0.00 & 0.00 & 0.00 & 0.00 & 0.00 & 0.00 & 0.00 & 0.00 & 0.00 & 0.00 & 0.00 & 0.00 & 0.00 & 0.00 & 0.00 & 0.00 & 0.00 & 0.00 & 0.00 & 0.00 & 0.00 & 0.00 & 0.00 & 0.00 & 0.00 & 0.00 & 0.00 & 0.00 & 0.00 & 0.00 & 0.00 & 0.00 & 0.00 & 0.00 & 0.00 & 0.00 & 0.00 & 0.00 & 0.00 & 0.00 & 0.00 & 0.00 & 0.00 & 0.00 & 0.00 & 0.00 & 0.00 & 0.00 & 0.00 & 0.00 & 0.00 & 0.00 & 0.00 & 0.00 & 0.00 & 0.00 & 0.00 & 0.00 & 0.00 & 0.00 & 0.00 & 0.00 & 0.00 & 0.00 & 0.00 & 0.00 & 0.00 & 0.00 & 0.00 & 0.00 & 0.00 & 0.00 & 0.00 & 0.00 & 0.00 & 0.00 & 0.00 & 0.00 & 0.00 & 0.00 & 0.00 & 0.00 & 0.00 & 0.00 & 0.00 & 0.00 & 0.00 & 0.00 & 0.00 & 0.00 & 0.00 & 0.00 & 0.00 & 0.00 & 0.00 & 0.00 & 0.00 & 0.00 & 0.00 & 0.00 & 0.00 & 0.00 & 0.00 & 0.00 & 0.00 & 0.00 & 0.00 & 0.00 & 0.00 & 0.00 & 0.00 & 0.00 & 0.00 & 0.00 & 0.00\\\\\n",
       "\\end{tabular}\n"
      ],
      "text/markdown": [
       "\n",
       "A data.frame: 6 × 184\n",
       "\n",
       "| scans &lt;chr&gt; | precursormass &lt;chr&gt; | parentrt &lt;chr&gt; | document &lt;chr&gt; | motif &lt;chr&gt; | probability &lt;chr&gt; | overlap &lt;chr&gt; | motif_18 &lt;fct&gt; | motif_151 &lt;fct&gt; | motif_30 &lt;fct&gt; | ⋯ ⋯ | motif_95 &lt;fct&gt; | motif_127 &lt;fct&gt; | motif_195 &lt;fct&gt; | motif_29 &lt;fct&gt; | motif_87 &lt;fct&gt; | motif_50 &lt;fct&gt; | motif_132 &lt;fct&gt; | motif_86 &lt;fct&gt; | motif_88 &lt;fct&gt; | motif_180 &lt;fct&gt; |\n",
       "|---|---|---|---|---|---|---|---|---|---|---|---|---|---|---|---|---|---|---|---|---|\n",
       "| 6  |  150.111                            | 603.358                         |    6                | motif_18                               | 0.99996266                                  | 0.3225841                               | 0.3225841 | 0.00      | 0.00      | ⋯ | 0.00 | 0.00 | 0.00 | 0.00 | 0.00 | 0.00 | 0.00 | 0.00 | 0.00 | 0.00 |\n",
       "| 24 |  163.098                            | 749.914                         |   24                | motif_151                              | 0.94729683                                  | 0.6157072                               | 0.00      | 0.6157072 | 0.00      | ⋯ | 0.00 | 0.00 | 0.00 | 0.00 | 0.00 | 0.00 | 0.00 | 0.00 | 0.00 | 0.00 |\n",
       "| 25 |  165.113, 165.113, 165.113          | 793.141,793.141,793.141         |   25,  25,  25      | motif_30,motif_124,motif_151           | 0.61399094,0.17105049,0.21491548            | 0.3633348,0.3643153,0.5033351           | 0.00      | 0.5033351 | 0.3633348 | ⋯ | 0.00 | 0.00 | 0.00 | 0.00 | 0.00 | 0.00 | 0.00 | 0.00 | 0.00 | 0.00 |\n",
       "| 28 |  166.086, 166.086                   |  61.588, 61.588                 |   28,  28           | motif_96,motif_15                      | 0.06588850,0.93405650                       | 0.7191652,0.5115918                     | 0.00      | 0.00      | 0.00      | ⋯ | 0.00 | 0.00 | 0.00 | 0.00 | 0.00 | 0.00 | 0.00 | 0.00 | 0.00 | 0.00 |\n",
       "| 33 |  166.098, 166.098, 166.098          | 437.707,437.707,437.707         |   33,  33,  33      | motif_151,motif_178,motif_124          | 0.27378479,0.68447539,0.04167682            | 0.4975803,0.3200368,0.3629634           | 0.00      | 0.4975803 | 0.00      | ⋯ | 0.00 | 0.00 | 0.00 | 0.00 | 0.00 | 0.00 | 0.00 | 0.00 | 0.00 | 0.00 |\n",
       "| 35 |  166.097, 166.097, 166.097, 166.097 | 663.255,663.255,663.255,663.255 |   35,  35,  35,  35 | motif_124,motif_151,motif_178,motif_38 | 0.08146994,0.22859318,0.65557618,0.03430947 | 0.3630475,0.4971433,0.3147959,0.5659772 | 0.00      | 0.4971433 | 0.00      | ⋯ | 0.00 | 0.00 | 0.00 | 0.00 | 0.00 | 0.00 | 0.00 | 0.00 | 0.00 | 0.00 |\n",
       "\n"
      ],
      "text/plain": [
       "  scans precursormass                       parentrt                       \n",
       "1 6      150.111                            603.358                        \n",
       "2 24     163.098                            749.914                        \n",
       "3 25     165.113, 165.113, 165.113          793.141,793.141,793.141        \n",
       "4 28     166.086, 166.086                    61.588, 61.588                \n",
       "5 33     166.098, 166.098, 166.098          437.707,437.707,437.707        \n",
       "6 35     166.097, 166.097, 166.097, 166.097 663.255,663.255,663.255,663.255\n",
       "  document            motif                                 \n",
       "1    6                motif_18                              \n",
       "2   24                motif_151                             \n",
       "3   25,  25,  25      motif_30,motif_124,motif_151          \n",
       "4   28,  28           motif_96,motif_15                     \n",
       "5   33,  33,  33      motif_151,motif_178,motif_124         \n",
       "6   35,  35,  35,  35 motif_124,motif_151,motif_178,motif_38\n",
       "  probability                                \n",
       "1 0.99996266                                 \n",
       "2 0.94729683                                 \n",
       "3 0.61399094,0.17105049,0.21491548           \n",
       "4 0.06588850,0.93405650                      \n",
       "5 0.27378479,0.68447539,0.04167682           \n",
       "6 0.08146994,0.22859318,0.65557618,0.03430947\n",
       "  overlap                                 motif_18  motif_151 motif_30  ⋯\n",
       "1 0.3225841                               0.3225841 0.00      0.00      ⋯\n",
       "2 0.6157072                               0.00      0.6157072 0.00      ⋯\n",
       "3 0.3633348,0.3643153,0.5033351           0.00      0.5033351 0.3633348 ⋯\n",
       "4 0.7191652,0.5115918                     0.00      0.00      0.00      ⋯\n",
       "5 0.4975803,0.3200368,0.3629634           0.00      0.4975803 0.00      ⋯\n",
       "6 0.3630475,0.4971433,0.3147959,0.5659772 0.00      0.4971433 0.00      ⋯\n",
       "  motif_95 motif_127 motif_195 motif_29 motif_87 motif_50 motif_132 motif_86\n",
       "1 0.00     0.00      0.00      0.00     0.00     0.00     0.00      0.00    \n",
       "2 0.00     0.00      0.00      0.00     0.00     0.00     0.00      0.00    \n",
       "3 0.00     0.00      0.00      0.00     0.00     0.00     0.00      0.00    \n",
       "4 0.00     0.00      0.00      0.00     0.00     0.00     0.00      0.00    \n",
       "5 0.00     0.00      0.00      0.00     0.00     0.00     0.00      0.00    \n",
       "6 0.00     0.00      0.00      0.00     0.00     0.00     0.00      0.00    \n",
       "  motif_88 motif_180\n",
       "1 0.00     0.00     \n",
       "2 0.00     0.00     \n",
       "3 0.00     0.00     \n",
       "4 0.00     0.00     \n",
       "5 0.00     0.00     \n",
       "6 0.00     0.00     "
      ]
     },
     "metadata": {},
     "output_type": "display_data"
    }
   ],
   "source": [
    "head(motif_network$nodes)"
   ]
  },
  {
   "cell_type": "markdown",
   "metadata": {},
   "source": [
    "write network data with mapped motifs to files: <br>\n",
    "The <i>edges</i> file can be importet as network into Cytoscape, whereas the <i>nodes</i> file can be imported as table. Select column 'CLUSTERID1' as Source Node, column 'interact' as Interaction Type and 'CLUSTERID2' as Target Node."
   ]
  },
  {
   "cell_type": "code",
   "execution_count": 15,
   "metadata": {},
   "outputs": [],
   "source": [
    "write.table(motif_network$edges,\"Mass2Motifs_Edges_Classical.tsv\",quote=F,row.names = F,sep=\"\\t\")\n",
    "write.table(motif_network$nodes,\"Mass2Motifs_Nodes_Classical.tsv\",quote=F,row.names = F,sep=\"\\t\")"
   ]
  },
  {
   "cell_type": "markdown",
   "metadata": {},
   "source": [
    "create graphML file containing motif information"
   ]
  },
  {
   "cell_type": "code",
   "execution_count": 16,
   "metadata": {},
   "outputs": [],
   "source": [
    "MG <- MolNetEnhancer::make_motif_graphml(motif_network$nodes,motif_network$edges)"
   ]
  },
  {
   "cell_type": "markdown",
   "metadata": {},
   "source": [
    "write graphML file containing motif information"
   ]
  },
  {
   "cell_type": "code",
   "execution_count": 17,
   "metadata": {},
   "outputs": [],
   "source": [
    "write_graph(MG, 'Motif_Network_Classical.graphml', format = \"graphml\")"
   ]
  },
  {
   "cell_type": "markdown",
   "metadata": {},
   "source": [
    "## map chemical class information"
   ]
  },
  {
   "cell_type": "markdown",
   "metadata": {},
   "source": [
    "read in chemical class information (to create this file follow descriptions in ChemicalClasses_2_Network.ipynb)"
   ]
  },
  {
   "cell_type": "code",
   "execution_count": 18,
   "metadata": {},
   "outputs": [],
   "source": [
    "final <- read.table('ClassyFireResults_Network.txt', sep = \"\\t\", header = T, check.names = F, stringsAsFactors = F)"
   ]
  },
  {
   "cell_type": "code",
   "execution_count": 19,
   "metadata": {},
   "outputs": [
    {
     "data": {
      "text/html": [
       "<table>\n",
       "<caption>A data.frame: 6 × 15</caption>\n",
       "<thead>\n",
       "\t<tr><th scope=col>cluster index</th><th scope=col>CF_componentindex</th><th scope=col>CF_NrNodes</th><th scope=col>CF_kingdom</th><th scope=col>CF_kingdom_score</th><th scope=col>CF_superclass</th><th scope=col>CF_superclass_score</th><th scope=col>CF_class</th><th scope=col>CF_class_score</th><th scope=col>CF_subclass</th><th scope=col>CF_subclass_score</th><th scope=col>CF_Dparent</th><th scope=col>CF_Dparent_score</th><th scope=col>CF_MFramework</th><th scope=col>CF_MFramework_score</th></tr>\n",
       "\t<tr><th scope=col>&lt;int&gt;</th><th scope=col>&lt;chr&gt;</th><th scope=col>&lt;int&gt;</th><th scope=col>&lt;chr&gt;</th><th scope=col>&lt;dbl&gt;</th><th scope=col>&lt;chr&gt;</th><th scope=col>&lt;dbl&gt;</th><th scope=col>&lt;chr&gt;</th><th scope=col>&lt;dbl&gt;</th><th scope=col>&lt;chr&gt;</th><th scope=col>&lt;dbl&gt;</th><th scope=col>&lt;chr&gt;</th><th scope=col>&lt;dbl&gt;</th><th scope=col>&lt;chr&gt;</th><th scope=col>&lt;dbl&gt;</th></tr>\n",
       "</thead>\n",
       "<tbody>\n",
       "\t<tr><td> 1</td><td>S1</td><td>1</td><td>no matches       </td><td>NA</td><td>no matches</td><td> NA</td><td>no matches                         </td><td> NA</td><td>no matches         </td><td> NA</td><td>no matches         </td><td> NA</td><td>no matches                       </td><td> NA</td></tr>\n",
       "\t<tr><td> 6</td><td>S2</td><td>1</td><td>no matches       </td><td>NA</td><td>no matches</td><td> NA</td><td>no matches                         </td><td> NA</td><td>no matches         </td><td> NA</td><td>no matches         </td><td> NA</td><td>no matches                       </td><td> NA</td></tr>\n",
       "\t<tr><td>19</td><td>S3</td><td>1</td><td>no matches       </td><td>NA</td><td>no matches</td><td> NA</td><td>no matches                         </td><td> NA</td><td>no matches         </td><td> NA</td><td>no matches         </td><td> NA</td><td>no matches                       </td><td> NA</td></tr>\n",
       "\t<tr><td>22</td><td>S4</td><td>1</td><td>no matches       </td><td>NA</td><td>no matches</td><td> NA</td><td>no matches                         </td><td> NA</td><td>no matches         </td><td> NA</td><td>no matches         </td><td> NA</td><td>no matches                       </td><td> NA</td></tr>\n",
       "\t<tr><td>24</td><td>S5</td><td>1</td><td>no matches       </td><td>NA</td><td>no matches</td><td> NA</td><td>no matches                         </td><td> NA</td><td>no matches         </td><td> NA</td><td>no matches         </td><td> NA</td><td>no matches                       </td><td> NA</td></tr>\n",
       "\t<tr><td>25</td><td>30</td><td>2</td><td>Organic compounds</td><td> 1</td><td>Benzenoids</td><td>0.5</td><td>Benzene and substituted derivatives</td><td>0.5</td><td>Benzoyl derivatives</td><td>0.5</td><td>Benzoyl derivatives</td><td>0.5</td><td>Aromatic homomonocyclic compounds</td><td>0.5</td></tr>\n",
       "</tbody>\n",
       "</table>\n"
      ],
      "text/latex": [
       "A data.frame: 6 × 15\n",
       "\\begin{tabular}{r|lllllllllllllll}\n",
       " cluster index & CF\\_componentindex & CF\\_NrNodes & CF\\_kingdom & CF\\_kingdom\\_score & CF\\_superclass & CF\\_superclass\\_score & CF\\_class & CF\\_class\\_score & CF\\_subclass & CF\\_subclass\\_score & CF\\_Dparent & CF\\_Dparent\\_score & CF\\_MFramework & CF\\_MFramework\\_score\\\\\n",
       " <int> & <chr> & <int> & <chr> & <dbl> & <chr> & <dbl> & <chr> & <dbl> & <chr> & <dbl> & <chr> & <dbl> & <chr> & <dbl>\\\\\n",
       "\\hline\n",
       "\t  1 & S1 & 1 & no matches        & NA & no matches &  NA & no matches                          &  NA & no matches          &  NA & no matches          &  NA & no matches                        &  NA\\\\\n",
       "\t  6 & S2 & 1 & no matches        & NA & no matches &  NA & no matches                          &  NA & no matches          &  NA & no matches          &  NA & no matches                        &  NA\\\\\n",
       "\t 19 & S3 & 1 & no matches        & NA & no matches &  NA & no matches                          &  NA & no matches          &  NA & no matches          &  NA & no matches                        &  NA\\\\\n",
       "\t 22 & S4 & 1 & no matches        & NA & no matches &  NA & no matches                          &  NA & no matches          &  NA & no matches          &  NA & no matches                        &  NA\\\\\n",
       "\t 24 & S5 & 1 & no matches        & NA & no matches &  NA & no matches                          &  NA & no matches          &  NA & no matches          &  NA & no matches                        &  NA\\\\\n",
       "\t 25 & 30 & 2 & Organic compounds &  1 & Benzenoids & 0.5 & Benzene and substituted derivatives & 0.5 & Benzoyl derivatives & 0.5 & Benzoyl derivatives & 0.5 & Aromatic homomonocyclic compounds & 0.5\\\\\n",
       "\\end{tabular}\n"
      ],
      "text/markdown": [
       "\n",
       "A data.frame: 6 × 15\n",
       "\n",
       "| cluster index &lt;int&gt; | CF_componentindex &lt;chr&gt; | CF_NrNodes &lt;int&gt; | CF_kingdom &lt;chr&gt; | CF_kingdom_score &lt;dbl&gt; | CF_superclass &lt;chr&gt; | CF_superclass_score &lt;dbl&gt; | CF_class &lt;chr&gt; | CF_class_score &lt;dbl&gt; | CF_subclass &lt;chr&gt; | CF_subclass_score &lt;dbl&gt; | CF_Dparent &lt;chr&gt; | CF_Dparent_score &lt;dbl&gt; | CF_MFramework &lt;chr&gt; | CF_MFramework_score &lt;dbl&gt; |\n",
       "|---|---|---|---|---|---|---|---|---|---|---|---|---|---|---|\n",
       "|  1 | S1 | 1 | no matches        | NA | no matches |  NA | no matches                          |  NA | no matches          |  NA | no matches          |  NA | no matches                        |  NA |\n",
       "|  6 | S2 | 1 | no matches        | NA | no matches |  NA | no matches                          |  NA | no matches          |  NA | no matches          |  NA | no matches                        |  NA |\n",
       "| 19 | S3 | 1 | no matches        | NA | no matches |  NA | no matches                          |  NA | no matches          |  NA | no matches          |  NA | no matches                        |  NA |\n",
       "| 22 | S4 | 1 | no matches        | NA | no matches |  NA | no matches                          |  NA | no matches          |  NA | no matches          |  NA | no matches                        |  NA |\n",
       "| 24 | S5 | 1 | no matches        | NA | no matches |  NA | no matches                          |  NA | no matches          |  NA | no matches          |  NA | no matches                        |  NA |\n",
       "| 25 | 30 | 2 | Organic compounds |  1 | Benzenoids | 0.5 | Benzene and substituted derivatives | 0.5 | Benzoyl derivatives | 0.5 | Benzoyl derivatives | 0.5 | Aromatic homomonocyclic compounds | 0.5 |\n",
       "\n"
      ],
      "text/plain": [
       "  cluster index CF_componentindex CF_NrNodes CF_kingdom        CF_kingdom_score\n",
       "1  1            S1                1          no matches        NA              \n",
       "2  6            S2                1          no matches        NA              \n",
       "3 19            S3                1          no matches        NA              \n",
       "4 22            S4                1          no matches        NA              \n",
       "5 24            S5                1          no matches        NA              \n",
       "6 25            30                2          Organic compounds  1              \n",
       "  CF_superclass CF_superclass_score CF_class                           \n",
       "1 no matches     NA                 no matches                         \n",
       "2 no matches     NA                 no matches                         \n",
       "3 no matches     NA                 no matches                         \n",
       "4 no matches     NA                 no matches                         \n",
       "5 no matches     NA                 no matches                         \n",
       "6 Benzenoids    0.5                 Benzene and substituted derivatives\n",
       "  CF_class_score CF_subclass         CF_subclass_score CF_Dparent         \n",
       "1  NA            no matches           NA               no matches         \n",
       "2  NA            no matches           NA               no matches         \n",
       "3  NA            no matches           NA               no matches         \n",
       "4  NA            no matches           NA               no matches         \n",
       "5  NA            no matches           NA               no matches         \n",
       "6 0.5            Benzoyl derivatives 0.5               Benzoyl derivatives\n",
       "  CF_Dparent_score CF_MFramework                     CF_MFramework_score\n",
       "1  NA              no matches                         NA                \n",
       "2  NA              no matches                         NA                \n",
       "3  NA              no matches                         NA                \n",
       "4  NA              no matches                         NA                \n",
       "5  NA              no matches                         NA                \n",
       "6 0.5              Aromatic homomonocyclic compounds 0.5                "
      ]
     },
     "metadata": {},
     "output_type": "display_data"
    }
   ],
   "source": [
    "head(final)"
   ]
  },
  {
   "cell_type": "markdown",
   "metadata": {},
   "source": [
    "create graphML file containing motif and chemical class information"
   ]
  },
  {
   "cell_type": "code",
   "execution_count": 20,
   "metadata": {},
   "outputs": [],
   "source": [
    "graphML_classy <- MolNetEnhancer::make_classyfire_graphml(MG, final)"
   ]
  },
  {
   "cell_type": "markdown",
   "metadata": {},
   "source": [
    "write graphML file containing motif and chemical class information"
   ]
  },
  {
   "cell_type": "code",
   "execution_count": 21,
   "metadata": {},
   "outputs": [],
   "source": [
    "write_graph(graphML_classy, 'Motif_ChemicalClass_Network_Classical.graphml', format = \"graphml\")"
   ]
  }
 ],
 "metadata": {
  "kernelspec": {
   "display_name": "R",
   "language": "R",
   "name": "ir"
  },
  "language_info": {
   "codemirror_mode": "r",
   "file_extension": ".r",
   "mimetype": "text/x-r-source",
   "name": "R",
   "pygments_lexer": "r",
   "version": "3.6.0"
  }
 },
 "nbformat": 4,
 "nbformat_minor": 2
}
